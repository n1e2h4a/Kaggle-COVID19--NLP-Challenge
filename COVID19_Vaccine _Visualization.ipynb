{
 "cells": [
  {
   "cell_type": "markdown",
   "metadata": {},
   "source": [
    "Abstract:\n",
    "\n",
    "focused on the metadata exclusively. I applied NLP techniques on the title and the abstract of each article to find out information about vaccins and therapeutics.I built LDA and KNN models in order to target articles about vaccine exclusively. Thanks to these 2 models which help  managed to reduce the number of articles from 22000 to 1000 roughly.  "
   ]
  },
  {
   "cell_type": "markdown",
   "metadata": {},
   "source": [
    "# Set up"
   ]
  },
  {
   "cell_type": "markdown",
   "metadata": {
    "_cell_guid": "5044eaf1-3657-4dbe-8400-08ff4eb9def9",
    "_uuid": "673babb1-767c-45ec-aeb9-d487388b1434"
   },
   "source": [
    "import libraries"
   ]
  },
  {
   "cell_type": "code",
   "execution_count": 1,
   "metadata": {
    "_cell_guid": "fa814d50-f5d0-440f-8612-e36addf9c545",
    "_uuid": "77010294-85b7-42ff-9496-1a4b82941ae9"
   },
   "outputs": [],
   "source": [
    "import gensim\n",
    "from gensim import corpora, models\n",
    "from gensim.models import Word2Vec\n",
    "from multiprocessing import freeze_support\n",
    "\n",
    "import pyLDAvis.gensim\n",
    "\n",
    "import nltk\n",
    "from nltk import stem\n",
    "\n",
    "from sklearn.decomposition import PCA\n",
    "from sklearn.feature_extraction.text import TfidfVectorizer\n",
    "from sklearn.cluster import KMeans\n",
    "from sklearn.metrics import adjusted_rand_score\n",
    "\n",
    "from IPython.display import IFrame\n",
    "import matplotlib\n",
    "from matplotlib import pyplot\n",
    "\n",
    "import pandas as pd\n",
    "import numpy as np\n",
    "import json\n",
    "import os"
   ]
  },
  {
   "cell_type": "code",
   "execution_count": 2,
   "metadata": {},
   "outputs": [
    {
     "name": "stdout",
     "output_type": "stream",
     "text": [
      "Collecting pyLDAvis\n",
      "  Downloading https://files.pythonhosted.org/packages/a5/3a/af82e070a8a96e13217c8f362f9a73e82d61ac8fff3a2561946a97f96266/pyLDAvis-2.1.2.tar.gz (1.6MB)\n",
      "\u001b[K    100% |████████████████████████████████| 1.6MB 310kB/s ta 0:00:011\n",
      "\u001b[?25hCollecting wheel>=0.23.0 (from pyLDAvis)\n",
      "  Using cached https://files.pythonhosted.org/packages/8c/23/848298cccf8e40f5bbb59009b32848a4c38f4e7f3364297ab3c3e2e2cd14/wheel-0.34.2-py2.py3-none-any.whl\n",
      "Collecting numpy>=1.9.2 (from pyLDAvis)\n",
      "  Using cached https://files.pythonhosted.org/packages/22/e7/4b2bdddb99f5f631d8c1de259897c2b7d65dcfcc1e0a6fd17a7f62923500/numpy-1.19.1-cp36-cp36m-manylinux1_x86_64.whl\n",
      "Collecting scipy>=0.18.0 (from pyLDAvis)\n",
      "  Using cached https://files.pythonhosted.org/packages/2b/a8/f4c66eb529bb252d50e83dbf2909c6502e2f857550f22571ed8556f62d95/scipy-1.5.2-cp36-cp36m-manylinux1_x86_64.whl\n",
      "Collecting pandas>=0.17.0 (from pyLDAvis)\n",
      "  Downloading https://files.pythonhosted.org/packages/a7/f7/2adca20a7fa71b6a32f823bbd83992adeceab1d8bf72992bb7a55c69c19a/pandas-1.1.0-cp36-cp36m-manylinux1_x86_64.whl (10.5MB)\n",
      "\u001b[K    100% |████████████████████████████████| 10.5MB 77kB/s  eta 0:00:01\n",
      "\u001b[?25hCollecting joblib>=0.8.4 (from pyLDAvis)\n",
      "  Using cached https://files.pythonhosted.org/packages/51/dd/0e015051b4a27ec5a58b02ab774059f3289a94b0906f880a3f9507e74f38/joblib-0.16.0-py3-none-any.whl\n",
      "Collecting jinja2>=2.7.2 (from pyLDAvis)\n",
      "  Using cached https://files.pythonhosted.org/packages/30/9e/f663a2aa66a09d838042ae1a2c5659828bb9b41ea3a6efa20a20fd92b121/Jinja2-2.11.2-py2.py3-none-any.whl\n",
      "Collecting numexpr (from pyLDAvis)\n",
      "  Downloading https://files.pythonhosted.org/packages/36/ed/eac5f6123f54a61cd13b7e89826b97edea54adf76d9f8e9fa2ce70e2fdf8/numexpr-2.7.1-cp36-cp36m-manylinux1_x86_64.whl (162kB)\n",
      "\u001b[K    100% |████████████████████████████████| 163kB 2.4MB/s ta 0:00:01\n",
      "\u001b[?25hCollecting pytest (from pyLDAvis)\n",
      "  Downloading https://files.pythonhosted.org/packages/98/db/712bee56f9ab20373508a5a1c662e1db49b407dacf03b5224c6171ed0a3d/pytest-6.0.1-py3-none-any.whl (270kB)\n",
      "\u001b[K    100% |████████████████████████████████| 276kB 742kB/s ta 0:00:011\n",
      "\u001b[?25hCollecting future (from pyLDAvis)\n",
      "\u001b[33m  Cache entry deserialization failed, entry ignored\u001b[0m\n",
      "\u001b[33m  Cache entry deserialization failed, entry ignored\u001b[0m\n",
      "  Downloading https://files.pythonhosted.org/packages/45/0b/38b06fd9b92dc2b68d58b75f900e97884c45bedd2ff83203d933cf5851c9/future-0.18.2.tar.gz (829kB)\n",
      "\u001b[K    100% |████████████████████████████████| 829kB 476kB/s ta 0:00:011\n",
      "\u001b[?25hCollecting funcy (from pyLDAvis)\n",
      "  Downloading https://files.pythonhosted.org/packages/ce/4b/6ffa76544e46614123de31574ad95758c421aae391a1764921b8a81e1eae/funcy-1.14.tar.gz (548kB)\n",
      "\u001b[K    100% |████████████████████████████████| 552kB 618kB/s ta 0:00:011\n",
      "\u001b[?25hCollecting python-dateutil>=2.7.3 (from pandas>=0.17.0->pyLDAvis)\n",
      "  Using cached https://files.pythonhosted.org/packages/d4/70/d60450c3dd48ef87586924207ae8907090de0b306af2bce5d134d78615cb/python_dateutil-2.8.1-py2.py3-none-any.whl\n",
      "Collecting pytz>=2017.2 (from pandas>=0.17.0->pyLDAvis)\n",
      "  Using cached https://files.pythonhosted.org/packages/4f/a4/879454d49688e2fad93e59d7d4efda580b783c745fd2ec2a3adf87b0808d/pytz-2020.1-py2.py3-none-any.whl\n",
      "Collecting MarkupSafe>=0.23 (from jinja2>=2.7.2->pyLDAvis)\n",
      "  Using cached https://files.pythonhosted.org/packages/b2/5f/23e0023be6bb885d00ffbefad2942bc51a620328ee910f64abe5a8d18dd1/MarkupSafe-1.1.1-cp36-cp36m-manylinux1_x86_64.whl\n",
      "Collecting more-itertools>=4.0.0 (from pytest->pyLDAvis)\n",
      "  Downloading https://files.pythonhosted.org/packages/ef/9b/6c35ec5483710492e21252465160ee508170159f7e0e2d6cd769022f52f6/more_itertools-8.4.0-py3-none-any.whl (43kB)\n",
      "\u001b[K    100% |████████████████████████████████| 51kB 1.1MB/s ta 0:00:011\n",
      "\u001b[?25hCollecting packaging (from pytest->pyLDAvis)\n",
      "  Using cached https://files.pythonhosted.org/packages/46/19/c5ab91b1b05cfe63cccd5cfc971db9214c6dd6ced54e33c30d5af1d2bc43/packaging-20.4-py2.py3-none-any.whl\n",
      "Collecting iniconfig (from pytest->pyLDAvis)\n",
      "  Downloading https://files.pythonhosted.org/packages/20/46/d2f4919cc48c39c2cb48b589ca9016aae6bad050b8023667eb86950d3da2/iniconfig-1.0.1-py3-none-any.whl\n",
      "Collecting toml (from pytest->pyLDAvis)\n",
      "  Downloading https://files.pythonhosted.org/packages/9f/e1/1b40b80f2e1663a6b9f497123c11d7d988c0919abbf3c3f2688e448c5363/toml-0.10.1-py2.py3-none-any.whl\n",
      "Collecting attrs>=17.4.0 (from pytest->pyLDAvis)\n",
      "  Using cached https://files.pythonhosted.org/packages/a2/db/4313ab3be961f7a763066401fb77f7748373b6094076ae2bda2806988af6/attrs-19.3.0-py2.py3-none-any.whl\n",
      "Collecting importlib-metadata>=0.12; python_version < \"3.8\" (from pytest->pyLDAvis)\n",
      "  Using cached https://files.pythonhosted.org/packages/8e/58/cdea07eb51fc2b906db0968a94700866fc46249bdc75cac23f9d13168929/importlib_metadata-1.7.0-py2.py3-none-any.whl\n",
      "Collecting py>=1.8.2 (from pytest->pyLDAvis)\n",
      "  Using cached https://files.pythonhosted.org/packages/68/0f/41a43535b52a81e4f29e420a151032d26f08b62206840c48d14b70e53376/py-1.9.0-py2.py3-none-any.whl\n",
      "Collecting pluggy<1.0,>=0.12 (from pytest->pyLDAvis)\n",
      "  Using cached https://files.pythonhosted.org/packages/a0/28/85c7aa31b80d150b772fbe4a229487bc6644da9ccb7e427dd8cc60cb8a62/pluggy-0.13.1-py2.py3-none-any.whl\n",
      "Collecting six>=1.5 (from python-dateutil>=2.7.3->pandas>=0.17.0->pyLDAvis)\n",
      "  Using cached https://files.pythonhosted.org/packages/ee/ff/48bde5c0f013094d729fe4b0316ba2a24774b3ff1c52d924a8a4cb04078a/six-1.15.0-py2.py3-none-any.whl\n",
      "Collecting pyparsing>=2.0.2 (from packaging->pytest->pyLDAvis)\n",
      "  Using cached https://files.pythonhosted.org/packages/8a/bb/488841f56197b13700afd5658fc279a2025a39e22449b7cf29864669b15d/pyparsing-2.4.7-py2.py3-none-any.whl\n",
      "Collecting zipp>=0.5 (from importlib-metadata>=0.12; python_version < \"3.8\"->pytest->pyLDAvis)\n",
      "  Using cached https://files.pythonhosted.org/packages/b2/34/bfcb43cc0ba81f527bc4f40ef41ba2ff4080e047acb0586b56b3d017ace4/zipp-3.1.0-py3-none-any.whl\n",
      "Building wheels for collected packages: pyLDAvis, future, funcy\n",
      "  Running setup.py bdist_wheel for pyLDAvis ... \u001b[?25ldone\n",
      "\u001b[?25h  Stored in directory: /home/niharika/.cache/pip/wheels/98/71/24/513a99e58bb6b8465bae4d2d5e9dba8f0bef8179e3051ac414\n",
      "  Running setup.py bdist_wheel for future ... \u001b[?25ldone\n",
      "\u001b[?25h  Stored in directory: /home/niharika/.cache/pip/wheels/8b/99/a0/81daf51dcd359a9377b110a8a886b3895921802d2fc1b2397e\n",
      "  Running setup.py bdist_wheel for funcy ... \u001b[?25ldone\n",
      "\u001b[?25h  Stored in directory: /home/niharika/.cache/pip/wheels/20/5a/d8/1d875df03deae6f178dfdf70238cca33f948ef8a6f5209f2eb\n",
      "Successfully built pyLDAvis future funcy\n",
      "Installing collected packages: wheel, numpy, scipy, six, python-dateutil, pytz, pandas, joblib, MarkupSafe, jinja2, numexpr, more-itertools, pyparsing, packaging, iniconfig, toml, attrs, zipp, importlib-metadata, py, pluggy, pytest, future, funcy, pyLDAvis\n",
      "Successfully installed MarkupSafe-1.1.1 attrs-19.3.0 funcy-1.14 future-0.18.2 importlib-metadata-1.7.0 iniconfig-1.0.1 jinja2-2.11.2 joblib-0.16.0 more-itertools-8.4.0 numexpr-2.7.1 numpy-1.19.1 packaging-20.4 pandas-1.1.0 pluggy-0.13.1 py-1.9.0 pyLDAvis-2.1.2 pyparsing-2.4.7 pytest-6.0.1 python-dateutil-2.8.1 pytz-2020.1 scipy-1.5.2 six-1.15.0 toml-0.10.1 wheel-0.34.2 zipp-3.1.0\n"
     ]
    }
   ],
   "source": [
    "!pip3 install pyLDAvis"
   ]
  },
  {
   "cell_type": "markdown",
   "metadata": {
    "_cell_guid": "cc9bc7e0-0a42-4354-a19e-75501d93fdd9",
    "_uuid": "7276440b-16f4-4278-938a-4316ef4978b9"
   },
   "source": [
    "# Import meta data"
   ]
  },
  {
   "cell_type": "code",
   "execution_count": 2,
   "metadata": {},
   "outputs": [],
   "source": [
    "#read metadata function\n",
    "def readMetaData(path):\n",
    "    metadataDf = pd.read_csv(path, encoding = 'utf-8')\n",
    "    metadataDf = metadataDf.loc[metadataDf.abstract.str.len() < 1500]\n",
    "    metadataDf[\"text\"] = metadataDf[\"title\"] + ' ' + metadataDf[\"abstract\"]\n",
    "    return metadataDf"
   ]
  },
  {
   "cell_type": "markdown",
   "metadata": {
    "_cell_guid": "b7dfea72-3c9e-4bca-9a7c-636548acb278",
    "_uuid": "16ab1972-19eb-4ea4-a847-d8066136106e"
   },
   "source": [
    "We import meta data as given for the challenge. Title and Abstract are concatenated in column 'text'. Abstracts with length bigger than 1500 words are removed. That actually concerned one huge article. The article is removed as we try to keep a balanced distribution."
   ]
  },
  {
   "cell_type": "code",
   "execution_count": 3,
   "metadata": {
    "_cell_guid": "8896c98b-dacd-4ee8-a03a-029baecfc10d",
    "_uuid": "243a00d9-0a4f-44c2-86e6-611e65c3b71f"
   },
   "outputs": [],
   "source": [
    "dataDf = readMetaData('/home/niharika/Documents/covid2/2020-04-17/metadata.csv')"
   ]
  },
  {
   "cell_type": "markdown",
   "metadata": {
    "_cell_guid": "9d9d54ff-3c7d-4466-913b-4f438531a13a",
    "_uuid": "b5a387d7-4fd6-40a7-a679-b246c9f52861"
   },
   "source": [
    "# Data exploration"
   ]
  },
  {
   "cell_type": "markdown",
   "metadata": {
    "_cell_guid": "76919216-5424-4669-a0dd-621f587e131b",
    "_uuid": "0b8b1f4e-ee8e-4fa0-8b6c-19d0d6b0a385"
   },
   "source": [
    "the metadata present the following features"
   ]
  },
  {
   "cell_type": "code",
   "execution_count": 4,
   "metadata": {
    "_cell_guid": "9553b9e4-99f8-4528-96a4-d3ef03a1bc74",
    "_uuid": "53bf81f0-910e-418e-ad9e-9961b229cb9f"
   },
   "outputs": [
    {
     "name": "stdout",
     "output_type": "stream",
     "text": [
      "cord_uid\n",
      "sha\n",
      "source_x\n",
      "title\n",
      "doi\n",
      "pmcid\n",
      "pubmed_id\n",
      "license\n",
      "abstract\n",
      "publish_time\n",
      "authors\n",
      "journal\n",
      "Microsoft Academic Paper ID\n",
      "WHO #Covidence\n",
      "has_pdf_parse\n",
      "has_pmc_xml_parse\n",
      "full_text_file\n",
      "url\n",
      "text\n"
     ]
    }
   ],
   "source": [
    "for col in dataDf.columns:\n",
    "    print(col)"
   ]
  },
  {
   "cell_type": "markdown",
   "metadata": {
    "_cell_guid": "f57b4ede-5f79-485e-b46c-c47057f635b6",
    "_uuid": "a39d98ad-c95d-42e4-9766-9d4c8874743a"
   },
   "source": [
    "check the repartition of publications between sources"
   ]
  },
  {
   "cell_type": "code",
   "execution_count": 5,
   "metadata": {
    "_cell_guid": "75f53d48-dc9d-4b06-86a8-16ea089d5f90",
    "_uuid": "ef0c37a0-eddd-4b5a-ba99-1d709bf326ad"
   },
   "outputs": [
    {
     "data": {
      "image/png": "[encoded data removed]",
      "text/plain": [
       "<Figure size 432x432 with 1 Axes>"
      ]
     },
     "metadata": {},
     "output_type": "display_data"
    }
   ],
   "source": [
    "dataDf.source_x.value_counts()\\\n",
    "    .plot(kind = 'pie', title = 'distribution of publlication sources', figsize = (6,6));"
   ]
  },
  {
   "cell_type": "markdown",
   "metadata": {
    "_cell_guid": "67203a77-07be-4be1-9547-6a137a217ca9",
    "_uuid": "3811080b-293e-4526-bbb4-287ef039cc4c"
   },
   "source": [
    "check the distribution of publications per year"
   ]
  },
  {
   "cell_type": "code",
   "execution_count": 6,
   "metadata": {
    "_cell_guid": "88122668-21e1-4f35-94cf-51157a6b1f89",
    "_uuid": "11b165d1-e531-40ca-8d28-6d459681770e"
   },
   "outputs": [
    {
     "data": {
      "image/png": "[encoded data removed]",
      "text/plain": [
       "<Figure size 720x576 with 1 Axes>"
      ]
     },
     "metadata": {
      "needs_background": "light"
     },
     "output_type": "display_data"
    }
   ],
   "source": [
    "pd.to_datetime(dataDf.publish_time, errors='coerce', format = '%Y/%m/%d')\\\n",
    "    .dt.year.value_counts().plot.bar(x = 'year', rot=45, figsize = (10,8));"
   ]
  },
  {
   "cell_type": "markdown",
   "metadata": {
    "_cell_guid": "16aaca36-57bb-4e39-a9e7-27cd47ca47d3",
    "_uuid": "92337031-23d7-4283-afd9-bb7af391eeb9"
   },
   "source": [
    "check how much articles have their full text available (True)"
   ]
  },
  {
   "cell_type": "code",
   "execution_count": 7,
   "metadata": {
    "_cell_guid": "4a90c38f-f112-485d-8383-2d245f3b8813",
    "_uuid": "f66c8da7-efc1-42da-9320-27de294b8f1e"
   },
   "outputs": [
    {
     "data": {
      "image/png": "[encoded data removed]",
      "text/plain": [
       "<Figure size 432x360 with 1 Axes>"
      ]
     },
     "metadata": {
      "needs_background": "light"
     },
     "output_type": "display_data"
    }
   ],
   "source": [
    "dataDf.has_pmc_xml_parse.value_counts().plot(kind = 'bar', figsize = (6,5));"
   ]
  },
  {
   "cell_type": "markdown",
   "metadata": {
    "_cell_guid": "c5bf60e1-490e-4119-8011-0d2dc7a53cf2",
    "_uuid": "7f1e4f38-faca-4492-b78a-d1595d2695f5"
   },
   "source": [
    "each article comes with a title. Below is the overall distribution of the length of the titles:"
   ]
  },
  {
   "cell_type": "code",
   "execution_count": 8,
   "metadata": {
    "_cell_guid": "81035031-4da8-4399-86df-6d4520a058eb",
    "_uuid": "7467cffb-1e28-4c92-a0a1-5a1dfe2ae004"
   },
   "outputs": [
    {
     "data": {
      "image/png": "[encoded data removed]",
      "text/plain": [
       "<Figure size 720x576 with 1 Axes>"
      ]
     },
     "metadata": {
      "needs_background": "light"
     },
     "output_type": "display_data"
    }
   ],
   "source": [
    "dataDf.title.str.split().str.len().value_counts()\\\n",
    "    .plot(kind = 'hist', bins = 50, figsize = (10,8));"
   ]
  },
  {
   "cell_type": "markdown",
   "metadata": {
    "_cell_guid": "667baafa-39dd-48e8-8163-76071c85f05e",
    "_uuid": "1d642246-caa2-47ec-80fa-57c6764687c8"
   },
   "source": [
    "for example:"
   ]
  },
  {
   "cell_type": "code",
   "execution_count": 9,
   "metadata": {
    "_cell_guid": "d42dac4d-ad3a-4e10-87e5-7ea34c521d60",
    "_uuid": "5883b3ed-5ecd-43d4-ba8d-6e37e2fb8f1a"
   },
   "outputs": [
    {
     "data": {
      "text/plain": [
       "'Discovering human history from stomach bacteria'"
      ]
     },
     "execution_count": 9,
     "metadata": {},
     "output_type": "execute_result"
    }
   ],
   "source": [
    "dataDf.title.iloc[0]"
   ]
  },
  {
   "cell_type": "markdown",
   "metadata": {
    "_cell_guid": "6a0b5c05-ff5d-4f45-bce9-6034375c9c39",
    "_uuid": "c4f9cff4-a240-4829-a844-813f98ce5d6f"
   },
   "source": [
    "each article comes wth an abstract. Below is the overall distribution of the length of the title"
   ]
  },
  {
   "cell_type": "code",
   "execution_count": 10,
   "metadata": {
    "_cell_guid": "ebab2a48-1eae-4db5-a027-681ec70e0b62",
    "_uuid": "157c9e18-007f-4b6a-a292-f0e46a71ce35"
   },
   "outputs": [
    {
     "data": {
      "image/png": "[encoded data removed]",
      "text/plain": [
       "<Figure size 720x576 with 1 Axes>"
      ]
     },
     "metadata": {
      "needs_background": "light"
     },
     "output_type": "display_data"
    }
   ],
   "source": [
    "dataDf.abstract.str.split().str.len().value_counts()\\\n",
    "    .plot(kind = 'hist', bins = 50, figsize = (10,8), xlim=(0,600));"
   ]
  },
  {
   "cell_type": "markdown",
   "metadata": {
    "_cell_guid": "72072028-7d76-4e5d-95f8-5d58dbf806fa",
    "_uuid": "90c56b4d-89cc-42e0-bbc2-6bd87f61d5fe"
   },
   "source": [
    "for example:"
   ]
  },
  {
   "cell_type": "code",
   "execution_count": 11,
   "metadata": {
    "_cell_guid": "6aefb201-591f-47a8-bde0-6734b35c1e31",
    "_uuid": "733263f0-4e8c-4089-a128-e31c8a384ac3"
   },
   "outputs": [
    {
     "data": {
      "text/plain": [
       "'Recent analyses of human pathogens have revealed that their evolutionary histories are congruent with the hypothesized pattern of ancient and modern human population migrations. Phylogenetic trees of strains of the bacterium Helicobacter pylori and the polyoma JC virus taken from geographically diverse groups of human beings correlate closely with relationships of the populations in which they are found.'"
      ]
     },
     "execution_count": 11,
     "metadata": {},
     "output_type": "execute_result"
    }
   ],
   "source": [
    "dataDf.abstract.iloc[0]"
   ]
  },
  {
   "cell_type": "markdown",
   "metadata": {
    "_cell_guid": "df481f5f-e1f1-4d41-ad28-6ddbdd2424ec",
    "_uuid": "b50fda13-786d-4a81-aa8b-9ccbef658796"
   },
   "source": [
    "In the rest of the notebook, we are going to work with a concatenation of both title and abstract. Distribution of the size of text to be processed [title, abstract]:"
   ]
  },
  {
   "cell_type": "code",
   "execution_count": 12,
   "metadata": {
    "_cell_guid": "9907024e-e41d-4cee-b072-9e5048b88c93",
    "_uuid": "4929f0c6-4b73-4b68-b476-594a01c4cfdc"
   },
   "outputs": [
    {
     "data": {
      "image/png": "[encoded data removed]",
      "text/plain": [
       "<Figure size 720x576 with 1 Axes>"
      ]
     },
     "metadata": {
      "needs_background": "light"
     },
     "output_type": "display_data"
    }
   ],
   "source": [
    "dataDf.text.str.split().str.len().value_counts()\\\n",
    "    .plot(kind = 'hist', bins = 50, figsize = (10,8), xlim=(0,600));"
   ]
  },
  {
   "cell_type": "markdown",
   "metadata": {
    "_cell_guid": "017692e2-b83a-4949-96a3-4e4d655de126",
    "_uuid": "265e76db-c51b-40a9-b604-11da56d77197"
   },
   "source": [
    "for example:"
   ]
  },
  {
   "cell_type": "code",
   "execution_count": 13,
   "metadata": {
    "_cell_guid": "97e7ecfa-6378-4842-ac61-3045d3ca535e",
    "_uuid": "87c926ff-e510-4aa3-ba97-7553bc245595"
   },
   "outputs": [
    {
     "data": {
      "text/plain": [
       "'Discovering human history from stomach bacteria Recent analyses of human pathogens have revealed that their evolutionary histories are congruent with the hypothesized pattern of ancient and modern human population migrations. Phylogenetic trees of strains of the bacterium Helicobacter pylori and the polyoma JC virus taken from geographically diverse groups of human beings correlate closely with relationships of the populations in which they are found.'"
      ]
     },
     "execution_count": 13,
     "metadata": {},
     "output_type": "execute_result"
    }
   ],
   "source": [
    "dataDf.text.iloc[0]"
   ]
  },
  {
   "cell_type": "markdown",
   "metadata": {
    "_cell_guid": "3af02850-92cf-4c5e-82c3-482e5f5d851f",
    "_uuid": "b2ea46eb-a565-455e-9bff-8a8946800eff"
   },
   "source": [
    "# Preprocessing"
   ]
  },
  {
   "cell_type": "code",
   "execution_count": 14,
   "metadata": {},
   "outputs": [],
   "source": [
    "custom_stop_words = ['abstract', 'preprint', 'fig', 'doi', 'equilibrium', 'spatial', 'eq', 'time' \\\n",
    "                     ,'rainfall', 'hsa', 'susceptible','number', 'biorxiv', 'ape', 'mir', 'bifurcation',\\\n",
    "                     'forecasts', 'parameter', 'using', 'peer', 'reviewed', 'fia', 'lf','medrxiv', 'reuse',\\\n",
    "                     'reserved', 'holder', 'copyright', 'funder', 'author','reviewed', 'peer', 'allowed',\\\n",
    "                     'granted', 'sia','license', 'https', 'org', 'display', 'appendicitis', 'biorxiv',\\\n",
    "                     'respondents', 'nanoparticles', 'filmarray','probnp', 'btv', 'january', 'medrxiv',\\\n",
    "                     'preprint', 'license', 'number', 'granted', 'display', 'estimated', 'doi','days', 'confirmed',\\\n",
    "                     'available', 'cc', 'nd', 'nc', 'author', 'reuse', 'reserved', 'allowed', 'peer', 'reviewed',\\\n",
    "                     'copyright', 'holder','author', 'funder', 'org', 'https', 'et', 'al', 'using', 'fig', 'figure',\\\n",
    "                     'used', 'onset', 'preprint','days', 'time', 'granted', 'mean', 'display', 'number', 'screening',\\\n",
    "                     'exposure', 'ci', 'available', 'travellers', 'estimated','intervals', 'uveitis', 'ii', 'predicted',\\\n",
    "                     'biorxiv', 'jia', 'dr', 'org', 'using', 'selected', 'lamp', 'osd', 'xf', 'medrxiv','sets', 'peer',\\\n",
    "                     'reviewed', 'inactivation', 'preprint', 'prf', 'doi', 'mngs', 'r503', 'https', 'org', 'valent',\\\n",
    "                     'tilorone', 'prepared','inactivated', 'preprint', 'number', 'doi', 'perpetuity', 'available', 'estimated',\\\n",
    "                     'display', 'reported', 'time', 'cc', 'onset', 'days','copyright', 'ax', 'file','preprint', 'perceived',\\\n",
    "                     'bat', 'pangolin', 'ratg13', 'doi', 'preprint', 'org', 'hdl', 'funder', 'reuse', 'allowed','nanopore',\\\n",
    "                     'coverage','datasets', 'reference', 'ont', 'supplementary', 'annotation', 'vadr', 'parhyale', 'abundance',\\\n",
    "                     'mapped', 'expression','cell', 'il', 'data', 'ifitm3', 'perpetuity','display', 'nd', 'nc', 'group',\\\n",
    "                     'admission', 'chickens', 'tree', 'preprint', 'infected', 'time', \\\n",
    "                     'confirmed', 'days', 'pro', 'residues', 'kcal', 'org', 'mol', 'hydrogen', 'reuse']\n",
    "\n",
    "#lemmatize: change tense to present\n",
    "#stem: reduce words to their roots\n",
    "def lemmatize_stemming(text):\n",
    "    stemmer = stem.PorterStemmer()\n",
    "    return stemmer.stem(stem.WordNetLemmatizer().lemmatize(text, pos='v'))\n",
    "\n",
    "#tokenization: split the string into list of words\n",
    "#remove stop words\n",
    "def preprocess(text):\n",
    "    result = []\n",
    "    if isinstance(text, float) == False:\n",
    "        for token in gensim.utils.simple_preprocess(text):\n",
    "            if (token not in gensim.parsing.preprocessing.STOPWORDS) and (token not in custom_stop_words):\n",
    "                result.append(lemmatize_stemming(token))\n",
    "    return result\n"
   ]
  },
  {
   "cell_type": "markdown",
   "metadata": {
    "_cell_guid": "ccfdcacb-b682-43b8-b14c-626ff8d5a3fd",
    "_uuid": "c3a3177f-166a-4958-af66-7903e33fc51c"
   },
   "source": [
    "text cleaning steps:\n",
    "- remove stop words\n",
    "- remove custom words\n",
    "- lemmatization: return the base or dictionary form of a word\n",
    "- stemming: heuristic process that chops off the ends of words"
   ]
  },
  {
   "cell_type": "code",
   "execution_count": 15,
   "metadata": {
    "_cell_guid": "d8e86a85-8ccf-40cf-b34e-c6753347df6b",
    "_uuid": "fbb24d4c-831c-4f9b-a4f0-f63801e129d5"
   },
   "outputs": [],
   "source": [
    "corpus = dataDf['norm_text'] = dataDf['text'].map(preprocess)"
   ]
  },
  {
   "cell_type": "markdown",
   "metadata": {
    "_cell_guid": "cdff412a-aac4-45e1-ab97-55c0cfde41da",
    "_uuid": "7e1db11d-47a2-4fb3-9268-e2e337bb5bb7"
   },
   "source": [
    "create dictionary and remove words that are not frequent at all"
   ]
  },
  {
   "cell_type": "code",
   "execution_count": 16,
   "metadata": {
    "_cell_guid": "aa8c1a4d-7984-4e30-b647-ab07dedb8c0b",
    "_uuid": "14cf1cf6-91e0-444e-a8cd-41921f4604b8"
   },
   "outputs": [],
   "source": [
    "dictionary = gensim.corpora.Dictionary(corpus)\n",
    "dictionary.filter_extremes(no_below=15, no_above=0.5, keep_n=100000)"
   ]
  },
  {
   "cell_type": "markdown",
   "metadata": {
    "_cell_guid": "7cf40c33-06cc-4fcf-b4b8-cb7cbf3d9812",
    "_uuid": "74188a24-8b4a-4f7c-9904-3c22210ee0a2"
   },
   "source": [
    "transform corpus into bag of words array\n",
    "> representation of text that describes the occurrence of words within a document. It involves two things: A vocabulary of known words. A measure of the presence of known words."
   ]
  },
  {
   "cell_type": "code",
   "execution_count": 17,
   "metadata": {
    "_cell_guid": "c0d8f995-eaee-47e6-a12e-058355f83bcd",
    "_uuid": "73cd976c-326b-4e50-bb04-b25b196c1e6e"
   },
   "outputs": [],
   "source": [
    "bow_corpus = [dictionary.doc2bow(doc) for doc in corpus]"
   ]
  },
  {
   "cell_type": "markdown",
   "metadata": {
    "_cell_guid": "5737fe9e-4479-429e-ae55-d97ff5df3736",
    "_uuid": "97ab52e5-21b0-45b7-b49d-450c4bb1d6d1"
   },
   "source": [
    "transform bag of words into tf-idf array\n",
    "> short for term frequency–inverse document frequency, is a numerical statistic that is intended to reflect how important a word is to a document in a collection or corpus."
   ]
  },
  {
   "cell_type": "code",
   "execution_count": 18,
   "metadata": {
    "_cell_guid": "8def6afb-2586-4c47-adfc-ee705035cb05",
    "_uuid": "0aa3b17d-1d31-4951-96e4-4f9a6273a52f"
   },
   "outputs": [],
   "source": [
    "tfidf = models.TfidfModel(bow_corpus)\n",
    "corpus_tfidf = tfidf[bow_corpus]"
   ]
  },
  {
   "cell_type": "markdown",
   "metadata": {
    "_cell_guid": "261137e1-d173-4023-a093-a2d7b95ef5b7",
    "_uuid": "9fc491ab-cf69-4da3-8e31-59aab1e09d05"
   },
   "source": [
    "# Topic modelling"
   ]
  },
  {
   "cell_type": "markdown",
   "metadata": {
    "_cell_guid": "beff562c-e341-462c-baf4-10e95ddeed93",
    "_uuid": "3ae4af1a-517e-4235-92a0-4f60d654f002"
   },
   "source": [
    "run LDA algoritm\n",
    "> generative statistical model that allows sets of observations to be explained by unobserved groups that explain why some parts of the data are similar. For example, if observations are words collected into documents, it posits that each document is a mixture of a small number of topics and that each word's presence is attributable to one of the document's topics. LDA is an example of a topic model and belongs to the machine learning toolbox and in wider sense to the artificial intelligence toolbox."
   ]
  },
  {
   "cell_type": "code",
   "execution_count": 19,
   "metadata": {
    "_cell_guid": "ea6625e4-3091-46ad-a46c-fe0456989115",
    "_uuid": "1ebbcb80-d905-4581-8dbb-f598ebf33765"
   },
   "outputs": [],
   "source": [
    "lda_model_tfidf = gensim.models.LdaMulticore(corpus_tfidf,\n",
    "                                             id2word=dictionary,\n",
    "                                             num_topics=4,\n",
    "                                             passes=5,\n",
    "                                             workers=4,\n",
    "                                             random_state=4)"
   ]
  },
  {
   "cell_type": "markdown",
   "metadata": {
    "_cell_guid": "34a76ded-25f9-4284-998d-3ee44c3db28b",
    "_uuid": "b5cac6ce-eb70-4d16-98f5-659dec85c199"
   },
   "source": [
    "We print topics and take care of storing what is the index of vaccine related topic."
   ]
  },
  {
   "cell_type": "code",
   "execution_count": 20,
   "metadata": {
    "_cell_guid": "2d443ece-8eb8-4a22-9432-561d336c1f61",
    "_uuid": "b9b87872-8dfe-4d51-ba67-00426cd77239"
   },
   "outputs": [
    {
     "name": "stdout",
     "output_type": "stream",
     "text": [
      "\n",
      "Topic: 0 keywords: 0.008*\"immun\" + 0.005*\"cell\" + 0.005*\"ifn\" + 0.005*\"respons\" + 0.005*\"infect\" + 0.004*\"viral\" + 0.004*\"cd\" + 0.004*\"lung\" + 0.003*\"induc\" + 0.003*\"innat\" + 0.003*\"diseas\" + 0.003*\"cytokin\" + 0.003*\"inflammatori\" + 0.003*\"host\" + 0.003*\"la\" + 0.003*\"mice\" + 0.003*\"asthma\" + 0.003*\"viru\" + 0.003*\"cn\" + 0.003*\"respiratori\"\n",
      "\n",
      "Topic: 1 keywords: 0.006*\"health\" + 0.005*\"diseas\" + 0.005*\"covid\" + 0.004*\"sar\" + 0.004*\"patient\" + 0.004*\"emerg\" + 0.004*\"outbreak\" + 0.004*\"case\" + 0.003*\"care\" + 0.003*\"respiratori\" + 0.003*\"public\" + 0.003*\"influenza\" + 0.003*\"epidem\" + 0.003*\"infecti\" + 0.003*\"model\" + 0.003*\"risk\" + 0.003*\"pandem\" + 0.003*\"china\" + 0.003*\"cov\" + 0.003*\"infect\"\n",
      "\n",
      "Topic: 2 keywords: 0.006*\"antibodi\" + 0.005*\"viru\" + 0.005*\"detect\" + 0.005*\"strain\" + 0.004*\"cov\" + 0.004*\"vaccin\" + 0.004*\"pcr\" + 0.004*\"assay\" + 0.004*\"sar\" + 0.004*\"coronaviru\" + 0.003*\"sampl\" + 0.003*\"protein\" + 0.003*\"cat\" + 0.003*\"isol\" + 0.003*\"infect\" + 0.003*\"recombin\" + 0.003*\"sequenc\" + 0.003*\"respiratori\" + 0.003*\"antigen\" + 0.003*\"ibv\"\n",
      "\n",
      "Topic: 3 keywords: 0.009*\"protein\" + 0.007*\"rna\" + 0.005*\"structur\" + 0.005*\"activ\" + 0.004*\"viral\" + 0.004*\"sar\" + 0.004*\"membran\" + 0.004*\"replic\" + 0.003*\"antivir\" + 0.003*\"drug\" + 0.003*\"viru\" + 0.003*\"compound\" + 0.003*\"bind\" + 0.003*\"virus\" + 0.003*\"interact\" + 0.003*\"host\" + 0.003*\"target\" + 0.003*\"inhibitor\" + 0.003*\"cov\" + 0.003*\"proteas\"\n",
      "\n",
      "\n",
      "index of topic related to vaccin is 2\n"
     ]
    }
   ],
   "source": [
    "vaccinTopic = -1\n",
    "for idx, topic in lda_model_tfidf.print_topics(-1, 20):\n",
    "    print('\\nTopic: {} keywords: {}'.format(idx, topic))\n",
    "    if 'vaccin' in topic:\n",
    "        vaccinTopic = idx\n",
    "print(\"\\n\\nindex of topic related to vaccin is {}\".format(vaccinTopic))"
   ]
  },
  {
   "cell_type": "markdown",
   "metadata": {
    "_cell_guid": "ce81bdc4-7814-4c3a-95a0-df7a7c811cca",
    "_uuid": "69e746d8-0cc1-452b-9e9b-11352b079ac0"
   },
   "source": [
    "visualize model"
   ]
  },
  {
   "cell_type": "code",
   "execution_count": 21,
   "metadata": {
    "_cell_guid": "ac0464fe-eb67-442c-9900-4040b25648ac",
    "_uuid": "b961f9a7-0df3-4c6f-b77f-9b7aee303f23"
   },
   "outputs": [
    {
     "data": {
      "text/html": [
       "\n",
       "<link rel=\"stylesheet\" type=\"text/css\" href=\"https://cdn.rawgit.com/bmabey/pyLDAvis/files/ldavis.v1.0.0.css\">\n",
       "\n",
       "\n",
       "<div id=\"ldavis_el53421406740918583445622122450\"></div>\n",
       "<script type=\"text/javascript\">\n",
       "\n",
       "var ldavis_el53421406740918583445622122450_data = {\"mdsDat\": {\"x\": [-0.16208164229320934, 0.0870492398059786, 0.07265912602943007, 0.0023732764578005454], \"y\": [0.02698934280381499, 0.10592692067645125, -0.06446438226833189, -0.06845188121193431], \"topics\": [1, 2, 3, 4], \"cluster\": [1, 1, 1, 1], \"Freq\": [32.84437521925751, 25.91415458952296, 25.602030416065585, 15.63943977515393]}, \"tinfo\": {\"Term\": [\"immun\", \"protein\", \"health\", \"rna\", \"antibodi\", \"ifn\", \"cell\", \"covid\", \"pcr\", \"strain\", \"mice\", \"structur\", \"cd\", \"cat\", \"compound\", \"felin\", \"respons\", \"public\", \"innat\", \"proteas\", \"lung\", \"cytokin\", \"la\", \"diarrhea\", \"assay\", \"care\", \"membran\", \"asthma\", \"ibv\", \"cn\", \"tourism\", \"travel\", \"polici\", \"disast\", \"prepared\", \"wuhan\", \"quarantin\", \"servic\", \"hotel\", \"plan\", \"social\", \"citi\", \"nation\", \"crisi\", \"price\", \"hcw\", \"hubei\", \"hajj\", \"staff\", \"offici\", \"healthcar\", \"tourist\", \"educ\", \"icu\", \"polit\", \"climat\", \"worker\", \"secur\", \"forecast\", \"airport\", \"covid\", \"public\", \"student\", \"health\", \"care\", \"estim\", \"depart\", \"pandem\", \"countri\", \"nurs\", \"ncov\", \"global\", \"manag\", \"outbreak\", \"hospit\", \"risk\", \"commun\", \"china\", \"medic\", \"emerg\", \"epidem\", \"case\", \"world\", \"spread\", \"epidemiolog\", \"surveil\", \"patient\", \"diseas\", \"transmiss\", \"research\", \"model\", \"pneumonia\", \"popul\", \"influenza\", \"infecti\", \"sar\", \"mer\", \"respiratori\", \"control\", \"cov\", \"infect\", \"coronaviru\", \"vaccin\", \"clpro\", \"proteinas\", \"aptam\", \"nucleosid\", \"proteas\", \"dub\", \"ifitm\", \"analogu\", \"metal\", \"catalyt\", \"mpro\", \"\\u03bcm\", \"nmr\", \"helic\", \"bioaerosol\", \"cystein\", \"ubiquitin\", \"crystal\", \"nanomateri\", \"golgi\", \"bilay\", \"usp\", \"helix\", \"coil\", \"nsp\", \"bond\", \"spectroscopi\", \"nucleolar\", \"adp\", \"lncrna\", \"compound\", \"endoplasm\", \"hydrophob\", \"reticulum\", \"dimer\", \"cleavag\", \"proteolyt\", \"inhibitor\", \"frameshift\", \"synthesi\", \"lipid\", \"rnai\", \"membran\", \"structur\", \"substrat\", \"rna\", \"ribosom\", \"assembl\", \"strand\", \"er\", \"protein\", \"translat\", \"sirna\", \"fusion\", \"plant\", \"domain\", \"bind\", \"drug\", \"activ\", \"replic\", \"inhibit\", \"interact\", \"antivir\", \"target\", \"mrna\", \"peptid\", \"cellular\", \"function\", \"acid\", \"viral\", \"host\", \"virus\", \"sar\", \"viru\", \"genom\", \"cov\", \"cell\", \"gene\", \"sequenc\", \"calv\", \"elisa\", \"fip\", \"fipv\", \"felin\", \"periton\", \"piglet\", \"colostrum\", \"fcov\", \"calf\", \"bcv\", \"ang\", \"ccov\", \"sera\", \"mab\", \"fiv\", \"canin\", \"astroviru\", \"prcv\", \"pdcov\", \"immunosorb\", \"diarrheic\", \"bcov\", \"dairi\", \"cattl\", \"cow\", \"igi\", \"cdv\", \"tge\", \"distemp\", \"cat\", \"diarrhea\", \"pig\", \"bovin\", \"dog\", \"tgev\", \"gastroenter\", \"angiotensin\", \"rotaviru\", \"ace\", \"inocul\", \"pedv\", \"rt\", \"pcr\", \"ibv\", \"antibodi\", \"intestin\", \"strain\", \"neutral\", \"porcin\", \"monoclon\", \"assay\", \"detect\", \"sampl\", \"recombin\", \"isol\", \"antigen\", \"viru\", \"vaccin\", \"cov\", \"sequenc\", \"coronaviru\", \"sar\", \"mice\", \"gene\", \"protein\", \"infect\", \"respiratori\", \"cell\", \"specif\", \"human\", \"hbov\", \"copd\", \"la\", \"le\", \"cxcl\", \"lo\", \"myelin\", \"asthma\", \"microglia\", \"sclerosi\", \"chemokin\", \"tlr\", \"que\", \"mbp\", \"sont\", \"treg\", \"une\", \"axon\", \"autoimmun\", \"demyelin\", \"wheez\", \"por\", \"par\", \"una\", \"cn\", \"dan\", \"pdc\", \"otiti\", \"ali\", \"zikv\", \"dc\", \"exacerb\", \"astrocyt\", \"cytokin\", \"ebv\", \"airway\", \"innat\", \"dendrit\", \"el\", \"inflammatori\", \"nervou\", \"ifn\", \"inflamm\", \"bronchiol\", \"autophagi\", \"immun\", \"cd\", \"lung\", \"chronic\", \"respons\", \"interferon\", \"cell\", \"pulmonari\", \"induc\", \"infect\", \"mice\", \"viral\", \"signal\", \"role\", \"mechan\", \"host\", \"receptor\", \"diseas\", \"viru\", \"respiratori\", \"vaccin\", \"human\", \"activ\", \"virus\"], \"Freq\": [5159.0, 7817.0, 4962.0, 5697.0, 4262.0, 2811.0, 5521.0, 3723.0, 2941.0, 3692.0, 2816.0, 3843.0, 2417.0, 2098.0, 2191.0, 1846.0, 4490.0, 2785.0, 1681.0, 1850.0, 2322.0, 1455.0, 1176.0, 1870.0, 3432.0, 2877.0, 2743.0, 1188.0, 2069.0, 1204.0, 715.6996175784808, 1543.3712328315394, 1016.4242399172972, 664.4759447432931, 670.1567930273064, 1029.0936569611106, 710.490279520236, 825.2508870262965, 376.50841471583453, 957.4774622939073, 1029.156197742936, 824.3024124368096, 986.5968321015044, 648.4878665615663, 317.61313324492147, 456.6731524988074, 385.09827292657445, 328.7913435220837, 507.05879703799354, 335.86731484253085, 1070.5495595929792, 269.9970545055429, 556.7023606579468, 395.3344172263409, 358.0864274739667, 453.1639146906947, 801.2863138974452, 510.9405524680841, 286.9694000570528, 322.74881771526793, 3526.579785138147, 2628.5536082279955, 431.94150031845277, 4595.118494971299, 2662.7270549668638, 1057.988316285172, 654.4675107029348, 2360.0843941156672, 1810.9772387109974, 783.4771899565474, 1424.430301293781, 2108.4817380041954, 2060.8967478511313, 3055.417533370843, 2110.3005112058872, 2384.448755556246, 1646.4235333028573, 2349.483004377856, 1577.9839194799727, 3156.5597947321075, 2483.510445094223, 2976.183816935917, 1504.917015020396, 1924.055699171011, 1619.6642598884794, 1310.7092524809707, 3216.0113528227603, 3794.1787006382706, 2130.8026157595464, 1896.6437472486286, 2404.9094086614855, 1846.556762213349, 1683.3425930857034, 2618.2931021120526, 2441.872283352529, 3246.6370646298196, 2057.8573385762525, 2631.2179546165194, 2048.88673608546, 2221.4843859467055, 2159.432294881542, 1983.7337857911828, 1959.5508653397374, 592.3062602609168, 578.7220881392816, 391.91470850473445, 527.0119220431523, 1782.120365204351, 306.30747827507275, 689.4612309611896, 477.1608555587721, 409.3419832862271, 460.227098173539, 261.4236633082196, 799.0108326152929, 298.4635926769571, 354.8564362971518, 272.21344827182986, 448.3793814625769, 684.3901442728393, 626.3990172030082, 239.4290216542872, 686.8781002325618, 235.4861540332037, 211.54279643463062, 268.1369450907143, 310.058095731838, 1633.2218419309893, 335.65641489694826, 234.94273622589222, 217.00612940115903, 241.79363412582234, 335.7973840064306, 2053.4879450279705, 393.7567024779125, 426.593360463545, 393.5063935529094, 443.90917963774405, 895.5032018818575, 432.42337090258866, 1854.221671747099, 982.2603470096781, 1480.3364497398425, 786.532896843012, 617.003610739526, 2256.7296117458245, 3033.8032697633907, 655.8674064078615, 4236.046934155348, 702.8879738305665, 952.368369119705, 1109.0339998524385, 650.1777913042602, 5243.450705098952, 1204.044597660389, 954.0445782561653, 1372.2914987842032, 1139.3028755650164, 1547.2495479683002, 2000.0931066282888, 2103.944199681169, 2860.825888565794, 2251.7534129393594, 1750.5375469398944, 1939.8136969646973, 2118.4694329503586, 1921.4850590270512, 1261.4555674539022, 1550.7095488737439, 1463.96022141722, 1701.5194569182609, 1577.8180771733319, 2407.8255461493422, 1939.2435090123265, 1999.4550698956734, 2274.659333282076, 2055.3713583146696, 1603.6383393093367, 1842.8167651516007, 1659.6369643030903, 1569.0100718834242, 1511.5171958456838, 1478.2851093250629, 1268.3552617017071, 752.2657918812611, 590.937519025331, 1797.973559355823, 750.0555922898536, 753.8291297110002, 406.2907972710521, 549.1481518277411, 518.1122856974563, 363.1183193103025, 349.3830469873545, 484.0484135323096, 873.2707474737581, 1014.2176667815456, 326.7316189229924, 1340.6610711995993, 391.28929428965154, 325.37674503265833, 388.97713018131554, 499.1406500536178, 310.8447819202133, 398.59141337445885, 401.1125019985446, 745.0246814476528, 353.5777283323126, 249.72665526688783, 274.35245011969175, 241.27422904669615, 272.6594069054928, 1995.5712982048599, 1767.452369576275, 1292.6199824147343, 1552.1838043966548, 1553.735025525633, 1358.8284696876776, 1203.3106862807917, 833.511104798349, 1165.0769684643517, 1323.8433739752147, 981.1962560292224, 1664.0587905369443, 1639.8231215625833, 2540.0113677790914, 1824.4321823434448, 3583.1192880746225, 1077.4240465817795, 2979.2138523455774, 1653.5395102553982, 1725.0256355755077, 1089.0757069502158, 2517.7673726350486, 3108.162191010514, 2096.6828277430086, 1916.0831903296837, 1954.5397562390635, 1870.1686888151867, 3143.5962423722194, 2541.230690508283, 2634.2665452762117, 1903.987746938646, 2166.0957926487363, 2462.641060794784, 1610.338015984932, 1754.6364430663148, 2040.2058226284623, 1944.8601420628709, 1872.110195252881, 1819.5177618875057, 1579.7434174218276, 1580.5100998910193, 667.8946878920018, 444.66559352125785, 1141.5782574082507, 790.0122181578777, 344.8656659803783, 279.6405042370948, 409.07647091947774, 1131.1614326506779, 307.51740728101356, 537.6551179218133, 597.6859348346412, 641.9390656719673, 187.8966287776651, 185.56912044274912, 187.6094343678948, 226.0628396641329, 201.65062227743368, 189.27275964015516, 851.9952212161539, 939.0234813360187, 418.2347911609886, 140.56438214048646, 154.52853399112726, 139.20451552810508, 1110.1829523148704, 195.27308842044152, 210.92265159422215, 247.31957610592505, 259.56851507334665, 542.2477179618202, 847.1859376470875, 845.9026309611991, 401.4730259737872, 1226.8580727672622, 276.5410770616907, 709.5869622311759, 1290.8613489049083, 432.5821322069714, 293.43124650158, 1219.373271359956, 790.8255388752226, 1989.7450278097306, 812.1754024869651, 462.68279000627047, 681.6042279390448, 2954.096848564519, 1459.0011016014366, 1403.0983093555842, 924.09387364343, 1985.3710158284034, 1047.5112020903146, 2013.639256424505, 768.0767116879299, 1290.9603844451576, 1911.6129121152533, 1138.4842624707405, 1499.0012446578453, 952.25745167995, 1070.6062208208389, 1037.8954917466117, 1173.5129772317828, 1013.7601669958283, 1255.5522354420586, 1124.580936534844, 1083.962687047159, 1020.0339472732848, 993.972883367915, 975.8384717417331, 962.0273423533591], \"Total\": [5159.0, 7817.0, 4962.0, 5697.0, 4262.0, 2811.0, 5521.0, 3723.0, 2941.0, 3692.0, 2816.0, 3843.0, 2417.0, 2098.0, 2191.0, 1846.0, 4490.0, 2785.0, 1681.0, 1850.0, 2322.0, 1455.0, 1176.0, 1870.0, 3432.0, 2877.0, 2743.0, 1188.0, 2069.0, 1204.0, 727.6494145778913, 1576.0165703539399, 1039.9640313086861, 682.5937622828719, 689.3948172437744, 1060.8721004387196, 732.4927903461045, 851.1232256886502, 388.54987330587284, 988.2395316262916, 1064.1624007206747, 853.2542905641027, 1021.9720144954289, 672.2619740462261, 329.6756154941456, 474.11109798949235, 399.9528332561655, 341.52728772691813, 527.4658621834384, 349.8524795607817, 1116.867310634638, 281.8069790064696, 581.3498238423207, 413.0990002103878, 374.23432075752095, 473.7050558972825, 838.225940825028, 534.9644989484559, 300.47896313455004, 338.0343470840297, 3723.0170603956244, 2785.386293810656, 452.75152812426927, 4962.2530620704865, 2877.5984005050923, 1136.9227308586253, 693.0560358604844, 2629.8304076427385, 1999.0284669912396, 839.171930954514, 1577.680483045215, 2385.001658001945, 2343.696837887857, 3576.1014297320794, 2426.1274142713114, 2837.651574326873, 1903.612717375415, 2875.2126853474206, 1849.6373363546613, 4115.8661832184425, 3128.634705485837, 3917.5105098484905, 1761.0363925902168, 2374.2409642726325, 1997.5945027035725, 1553.3613387838757, 5157.9175032722, 6522.565954689906, 3034.351801130005, 2777.5991086750064, 4116.129390230465, 2714.9139858119, 2350.2381491745273, 4965.958188144299, 4438.202553919713, 8242.042645760266, 3374.2247699049026, 6097.979927483698, 3526.0017325143876, 6836.20093168121, 6878.894138801174, 5633.08630348023, 6118.289459274578, 605.4398043038029, 599.5494797052501, 406.4439753598757, 546.9767568602485, 1850.101844845193, 318.3290985699082, 717.6594201692935, 496.81108874875486, 426.335258447968, 479.89090907687097, 272.6453423268779, 834.2593463229346, 312.3673371257812, 371.65901882966284, 285.612541035484, 470.4541267733045, 719.4692570928713, 658.6946917724999, 252.30378907027753, 724.0745938456276, 248.24885632509432, 223.12610373076663, 283.2661591490097, 327.86604598498866, 1727.4342765106637, 355.02735443103035, 248.71258060082928, 229.89571116948053, 256.33029614824073, 356.3846827431662, 2191.7973495125607, 419.27290055960685, 454.94128092781034, 419.0850284493981, 476.01912507378097, 984.1050842454363, 465.3014089476528, 2132.2196266034994, 1100.0360842687326, 1697.1638211987247, 879.5798775084995, 679.7948661173349, 2743.3042741736913, 3843.1411618669817, 732.9121559738352, 5697.700059052094, 791.9993354642581, 1110.4304163722043, 1318.240444369007, 728.0988084977012, 7817.895314561429, 1485.9758748831744, 1149.280919839871, 1777.996622062275, 1422.0145966895195, 2100.022338689868, 3014.412837973674, 3223.309955936445, 4820.23768916326, 3595.1175931645857, 2608.3949256904634, 2994.8551893640097, 3618.680187376386, 3238.7424934954724, 1762.2293943726943, 2388.7207589614754, 2203.076100593041, 3152.384550315415, 2853.8950147928, 6340.965265341065, 4356.633321774683, 5796.234339109688, 8242.042645760266, 7386.05815206277, 3708.736784086928, 6836.20093168121, 5521.38474134957, 4086.6076655523175, 4059.18328181522, 1493.7620623927032, 1292.3268765496687, 770.9424840527557, 606.0237805159861, 1846.4404002546526, 770.37254194313, 774.7428005297706, 418.8547816737286, 566.4368555707932, 534.4682674523824, 375.475416776863, 361.7389127133599, 501.5832339602358, 905.0926014237774, 1052.079594445402, 339.0793673182671, 1391.6429041671238, 406.19321581618715, 337.7876001886359, 404.00537101381093, 519.070882844412, 323.7181772278098, 415.63594128620923, 418.41614361572255, 777.9551653615719, 369.27855467048136, 261.17014975376793, 287.0409737141567, 252.83221382049666, 286.1084076125928, 2098.689164590358, 1870.0005724755742, 1370.0830008027988, 1651.2044727838415, 1659.8102566550317, 1448.5969182578363, 1284.1032133798776, 883.5754342931612, 1251.872309872686, 1434.572986962415, 1056.0338798474872, 1837.1610214155824, 1826.1515482446391, 2941.2226731191827, 2069.4774837924188, 4262.413532357507, 1184.8801407236447, 3692.540853740712, 1922.6816498194548, 2017.450477092529, 1232.7845852939906, 3432.4465727053444, 4859.217137648595, 2917.2094712756175, 2609.9561282572167, 3046.829863930418, 2862.064569734241, 7386.05815206277, 6118.289459274578, 6836.20093168121, 4059.18328181522, 5633.08630348023, 8242.042645760266, 2816.3736641975656, 4086.6076655523175, 7817.895314561429, 6878.894138801174, 6097.979927483698, 5521.38474134957, 3713.712602724084, 5306.594189029229, 684.511397984964, 458.0149694845154, 1176.803709283859, 823.0677101612665, 359.42335711383924, 291.63797093044815, 427.47006609395874, 1188.3825998853404, 323.54950799143353, 568.5708103381804, 632.121240332145, 679.8206743134687, 199.42658543481173, 196.9849570441022, 199.29674395118425, 240.65281976716776, 215.0538861735589, 202.1172783355935, 915.5729288433156, 1011.7242897368488, 451.65745346221263, 151.821473715776, 167.11283550044985, 150.59409609071173, 1204.891149445203, 211.93304130524518, 229.0731263632911, 269.0060628772627, 282.7537287420769, 593.4239287768777, 932.5120810217653, 949.0606841395495, 447.71863168518087, 1455.1887794053196, 305.89898341962305, 855.3922883492997, 1681.0906433826976, 501.174248852947, 326.63561818555775, 1608.6719203128305, 991.0328667840477, 2811.6232494514215, 1038.9878464056105, 551.5886969011693, 866.8889291311173, 5159.721781964578, 2417.931649952923, 2322.465438351426, 1479.017161476457, 4490.787482384698, 1838.8639772864717, 5521.38474134957, 1194.4960119592151, 3104.2446390114596, 6878.894138801174, 2816.3736641975656, 6340.965265341065, 2154.8099021580847, 3017.290997541025, 2820.480798121313, 4356.633321774683, 2842.9279794573185, 6522.565954689906, 7386.05815206277, 6097.979927483698, 6118.289459274578, 5306.594189029229, 4820.23768916326, 5796.234339109688], \"Category\": [\"Default\", \"Default\", \"Default\", \"Default\", \"Default\", \"Default\", \"Default\", \"Default\", \"Default\", \"Default\", \"Default\", \"Default\", \"Default\", \"Default\", \"Default\", \"Default\", \"Default\", \"Default\", \"Default\", \"Default\", \"Default\", \"Default\", \"Default\", \"Default\", \"Default\", \"Default\", \"Default\", \"Default\", \"Default\", \"Default\", \"Topic1\", \"Topic1\", \"Topic1\", \"Topic1\", \"Topic1\", \"Topic1\", \"Topic1\", \"Topic1\", \"Topic1\", \"Topic1\", \"Topic1\", \"Topic1\", \"Topic1\", \"Topic1\", \"Topic1\", \"Topic1\", \"Topic1\", \"Topic1\", \"Topic1\", \"Topic1\", \"Topic1\", \"Topic1\", \"Topic1\", \"Topic1\", \"Topic1\", \"Topic1\", \"Topic1\", \"Topic1\", \"Topic1\", \"Topic1\", \"Topic1\", \"Topic1\", \"Topic1\", \"Topic1\", \"Topic1\", \"Topic1\", \"Topic1\", \"Topic1\", \"Topic1\", \"Topic1\", \"Topic1\", \"Topic1\", \"Topic1\", \"Topic1\", \"Topic1\", \"Topic1\", \"Topic1\", \"Topic1\", \"Topic1\", \"Topic1\", \"Topic1\", \"Topic1\", \"Topic1\", \"Topic1\", \"Topic1\", \"Topic1\", \"Topic1\", \"Topic1\", \"Topic1\", \"Topic1\", \"Topic1\", \"Topic1\", \"Topic1\", \"Topic1\", \"Topic1\", \"Topic1\", \"Topic1\", \"Topic1\", \"Topic1\", \"Topic1\", \"Topic1\", \"Topic1\", \"Topic1\", \"Topic2\", \"Topic2\", \"Topic2\", \"Topic2\", \"Topic2\", \"Topic2\", \"Topic2\", \"Topic2\", \"Topic2\", \"Topic2\", \"Topic2\", \"Topic2\", \"Topic2\", \"Topic2\", \"Topic2\", \"Topic2\", \"Topic2\", \"Topic2\", \"Topic2\", \"Topic2\", \"Topic2\", \"Topic2\", \"Topic2\", \"Topic2\", \"Topic2\", \"Topic2\", \"Topic2\", \"Topic2\", \"Topic2\", \"Topic2\", \"Topic2\", \"Topic2\", \"Topic2\", \"Topic2\", \"Topic2\", \"Topic2\", \"Topic2\", \"Topic2\", \"Topic2\", \"Topic2\", \"Topic2\", \"Topic2\", \"Topic2\", \"Topic2\", \"Topic2\", \"Topic2\", \"Topic2\", \"Topic2\", \"Topic2\", \"Topic2\", \"Topic2\", \"Topic2\", \"Topic2\", \"Topic2\", \"Topic2\", \"Topic2\", \"Topic2\", \"Topic2\", \"Topic2\", \"Topic2\", \"Topic2\", \"Topic2\", \"Topic2\", \"Topic2\", \"Topic2\", \"Topic2\", \"Topic2\", \"Topic2\", \"Topic2\", \"Topic2\", \"Topic2\", \"Topic2\", \"Topic2\", \"Topic2\", \"Topic2\", \"Topic2\", \"Topic2\", \"Topic2\", \"Topic2\", \"Topic3\", \"Topic3\", \"Topic3\", \"Topic3\", \"Topic3\", \"Topic3\", \"Topic3\", \"Topic3\", \"Topic3\", \"Topic3\", \"Topic3\", \"Topic3\", \"Topic3\", \"Topic3\", \"Topic3\", \"Topic3\", \"Topic3\", \"Topic3\", \"Topic3\", \"Topic3\", \"Topic3\", \"Topic3\", \"Topic3\", \"Topic3\", \"Topic3\", \"Topic3\", \"Topic3\", \"Topic3\", \"Topic3\", \"Topic3\", \"Topic3\", \"Topic3\", \"Topic3\", \"Topic3\", \"Topic3\", \"Topic3\", \"Topic3\", \"Topic3\", \"Topic3\", \"Topic3\", \"Topic3\", \"Topic3\", \"Topic3\", \"Topic3\", \"Topic3\", \"Topic3\", \"Topic3\", \"Topic3\", \"Topic3\", \"Topic3\", \"Topic3\", \"Topic3\", \"Topic3\", \"Topic3\", \"Topic3\", \"Topic3\", \"Topic3\", \"Topic3\", \"Topic3\", \"Topic3\", \"Topic3\", \"Topic3\", \"Topic3\", \"Topic3\", \"Topic3\", \"Topic3\", \"Topic3\", \"Topic3\", \"Topic3\", \"Topic3\", \"Topic3\", \"Topic4\", \"Topic4\", \"Topic4\", \"Topic4\", \"Topic4\", \"Topic4\", \"Topic4\", \"Topic4\", \"Topic4\", \"Topic4\", \"Topic4\", \"Topic4\", \"Topic4\", \"Topic4\", \"Topic4\", \"Topic4\", \"Topic4\", \"Topic4\", \"Topic4\", \"Topic4\", \"Topic4\", \"Topic4\", \"Topic4\", \"Topic4\", \"Topic4\", \"Topic4\", \"Topic4\", \"Topic4\", \"Topic4\", \"Topic4\", \"Topic4\", \"Topic4\", \"Topic4\", \"Topic4\", \"Topic4\", \"Topic4\", \"Topic4\", \"Topic4\", \"Topic4\", \"Topic4\", \"Topic4\", \"Topic4\", \"Topic4\", \"Topic4\", \"Topic4\", \"Topic4\", \"Topic4\", \"Topic4\", \"Topic4\", \"Topic4\", \"Topic4\", \"Topic4\", \"Topic4\", \"Topic4\", \"Topic4\", \"Topic4\", \"Topic4\", \"Topic4\", \"Topic4\", \"Topic4\", \"Topic4\", \"Topic4\", \"Topic4\", \"Topic4\", \"Topic4\", \"Topic4\", \"Topic4\", \"Topic4\", \"Topic4\"], \"logprob\": [30.0, 29.0, 28.0, 27.0, 26.0, 25.0, 24.0, 23.0, 22.0, 21.0, 20.0, 19.0, 18.0, 17.0, 16.0, 15.0, 14.0, 13.0, 12.0, 11.0, 10.0, 9.0, 8.0, 7.0, 6.0, 5.0, 4.0, 3.0, 2.0, 1.0, -6.994900226593018, -6.226399898529053, -6.644100189208984, -7.0690999031066895, -7.0605998039245605, -6.631700038909912, -7.002200126647949, -6.852399826049805, -7.637199878692627, -6.703800201416016, -6.6315999031066895, -6.853600025177002, -6.673900127410889, -7.093500137329102, -7.807300090789795, -7.444200038909912, -7.61460018157959, -7.77269983291626, -7.3394999504089355, -7.751399993896484, -6.592199802398682, -7.969699859619141, -7.246099948883057, -7.588399887084961, -7.687399864196777, -7.451900005340576, -6.881899833679199, -7.331900119781494, -7.90880012512207, -7.791299819946289, -5.400000095367432, -5.693900108337402, -7.499800205230713, -5.13539981842041, -5.681000232696533, -6.604000091552734, -7.0843000411987305, -5.801700115203857, -6.066500186920166, -6.904399871826172, -6.306600093841553, -5.914400100708008, -5.93720006942749, -5.543499946594238, -5.91349983215332, -5.791399955749512, -6.161799907684326, -5.80620002746582, -6.20419979095459, -5.510900020599365, -5.750699996948242, -5.569699764251709, -6.2515997886657715, -6.005899906158447, -6.178199768066406, -6.389800071716309, -5.492199897766113, -5.326900005340576, -5.903900146484375, -6.020299911499023, -5.782899856567383, -6.047100067138672, -6.139599800109863, -5.69789981842041, -5.767600059509277, -5.482800006866455, -5.938700199127197, -5.69290018081665, -5.9430999755859375, -5.862199783325195, -5.890500068664551, -5.975399971008301, -5.98769998550415, -6.9471001625061035, -6.970300197601318, -7.360099792480469, -7.063899993896484, -5.845600128173828, -7.606599807739258, -6.795199871063232, -7.163300037384033, -7.3165998458862305, -7.199399948120117, -7.764999866485596, -6.647799968719482, -7.632500171661377, -7.459400177001953, -7.724599838256836, -7.225500106811523, -6.802599906921387, -6.891200065612793, -7.85290002822876, -6.798999786376953, -7.869500160217285, -7.9766998291015625, -7.73960018157959, -7.594399929046631, -5.932799816131592, -7.515100002288818, -7.871799945831299, -7.951200008392334, -7.843100070953369, -7.514599800109863, -5.703800201416016, -7.355400085449219, -7.275300025939941, -7.355999946594238, -7.235499858856201, -6.53380012512207, -7.26170015335083, -5.8059000968933105, -6.441299915313721, -6.031099796295166, -6.66349983215332, -6.906300067901611, -5.609499931335449, -5.313600063323975, -6.845200061798096, -4.979800224304199, -6.775899887084961, -6.4721999168396, -6.319900035858154, -6.853899955749512, -4.76639986038208, -6.23769998550415, -6.470399856567383, -6.106900215148926, -6.293000221252441, -5.9868998527526855, -5.730199813842773, -5.679599761962891, -5.372300148010254, -5.611700057983398, -5.863500118255615, -5.760799884796143, -5.672699928283691, -5.770299911499023, -6.191100120544434, -5.9847002029418945, -6.042200088500977, -5.891900062561035, -5.967299938201904, -5.5447001457214355, -5.761099815368652, -5.730500221252441, -5.601600170135498, -5.702899932861328, -5.951099872589111, -5.812099933624268, -5.916800022125244, -5.972899913787842, -6.010300159454346, -6.020400047302246, -6.173500061035156, -6.695899963378906, -6.937300205230713, -5.8246002197265625, -6.69890022277832, -6.693900108337402, -7.311999797821045, -7.010700225830078, -7.06879997253418, -7.424300193786621, -7.462900161743164, -7.1367998123168945, -6.546800136566162, -6.397200107574463, -7.529900074005127, -6.118100166320801, -7.349599838256836, -7.533999919891357, -7.355500221252441, -7.106100082397461, -7.579699993133545, -7.331099987030029, -7.32480001449585, -6.705599784851074, -7.450900077819824, -7.798699855804443, -7.704599857330322, -7.833099842071533, -7.7108001708984375, -5.720300197601318, -5.841700077056885, -6.154600143432617, -5.97160005569458, -5.970600128173828, -6.104599952697754, -6.226200103759766, -6.593400001525879, -6.258500099182129, -6.13070011138916, -6.430200099945068, -5.9019999504089355, -5.9166998863220215, -5.479100227355957, -5.809999942779541, -5.135000228881836, -6.336699962615967, -5.3196001052856445, -5.908299922943115, -5.866000175476074, -6.325900077819824, -5.4878997802734375, -5.277200222015381, -5.670899868011475, -5.761000156402588, -5.741099834442139, -5.785200119018555, -5.265900135040283, -5.478600025177002, -5.442699909210205, -5.767300128936768, -5.638299942016602, -5.510000228881836, -5.934800148010254, -5.848999977111816, -5.698200225830078, -5.746099948883057, -5.784200191497803, -5.812699794769287, -5.953999996185303, -5.953499794006348, -6.322000026702881, -6.728799819946289, -5.785999774932861, -6.154099941253662, -6.982999801635742, -7.192599773406982, -6.81220006942749, -5.795100212097168, -7.097599983215332, -6.538899898529053, -6.43310022354126, -6.361700057983398, -7.5903000831604, -7.602700233459473, -7.591800212860107, -7.405300140380859, -7.519599914550781, -7.583000183105469, -6.07859992980957, -5.981299877166748, -6.79010009765625, -7.880499839782715, -7.785799980163574, -7.890200138092041, -5.813899993896484, -7.551700115203857, -7.474699974060059, -7.315499782562256, -7.267099857330322, -6.530399799346924, -6.084199905395508, -6.085700035095215, -6.830999851226807, -5.713900089263916, -7.203800201416016, -6.261499881744385, -5.663099765777588, -6.756400108337402, -7.144499778747559, -5.720099925994873, -6.15310001373291, -5.230400085449219, -6.126399993896484, -6.6890997886657715, -6.301700115203857, -4.83519983291626, -5.540599822998047, -5.579699993133545, -5.997300148010254, -5.232600212097168, -5.872000217437744, -5.218400001525879, -6.182300090789795, -5.663000106811523, -5.270400047302246, -5.788700103759766, -5.513599872589111, -5.967299938201904, -5.850200176239014, -5.881199836730957, -5.758399963378906, -5.904699802398682, -5.690800189971924, -5.801000118255615, -5.837800025939941, -5.898600101470947, -5.9243998527526855, -5.942800045013428, -5.957099914550781], \"loglift\": [30.0, 29.0, 28.0, 27.0, 26.0, 25.0, 24.0, 23.0, 22.0, 21.0, 20.0, 19.0, 18.0, 17.0, 16.0, 15.0, 14.0, 13.0, 12.0, 11.0, 10.0, 9.0, 8.0, 7.0, 6.0, 5.0, 4.0, 3.0, 2.0, 1.0, 1.0968, 1.0925, 1.0905, 1.0865, 1.0851, 1.083, 1.0829, 1.0825, 1.0819, 1.0818, 1.0799, 1.0789, 1.0782, 1.0774, 1.0761, 1.0759, 1.0755, 1.0754, 1.0739, 1.0726, 1.071, 1.0706, 1.0701, 1.0694, 1.0693, 1.0691, 1.0683, 1.0674, 1.0674, 1.0671, 1.0592, 1.0554, 1.0663, 1.0365, 1.0358, 1.0414, 1.0561, 1.0052, 1.0146, 1.0447, 1.0112, 0.9902, 0.9848, 0.956, 0.9739, 0.9394, 0.9682, 0.9115, 0.9545, 0.848, 0.8825, 0.8386, 0.9562, 0.9031, 0.9037, 0.9435, 0.641, 0.5716, 0.7599, 0.7319, 0.576, 0.728, 0.7797, 0.4733, 0.5159, 0.1818, 0.6189, 0.2729, 0.5705, -0.0107, -0.0452, 0.0697, -0.0252, 1.3284, 1.315, 1.314, 1.3132, 1.3129, 1.3119, 1.3103, 1.31, 1.3097, 1.3085, 1.3084, 1.3072, 1.3048, 1.3041, 1.3023, 1.3023, 1.3004, 1.3001, 1.298, 1.2976, 1.2976, 1.2971, 1.2955, 1.2945, 1.2943, 1.2943, 1.2934, 1.2927, 1.292, 1.2909, 1.2852, 1.2876, 1.286, 1.2874, 1.2805, 1.256, 1.2771, 1.2107, 1.2371, 1.2137, 1.2386, 1.2535, 1.1551, 1.1139, 1.2393, 1.0539, 1.231, 1.1968, 1.1776, 1.2372, 0.9509, 1.14, 1.1642, 1.0914, 1.1287, 1.0449, 0.9402, 0.9238, 0.8287, 0.8825, 0.9516, 0.9161, 0.815, 0.8283, 1.0161, 0.9183, 0.9417, 0.7337, 0.7577, 0.3821, 0.541, 0.286, 0.063, 0.0712, 0.512, 0.0394, 0.1484, 0.3931, 0.3625, 1.3521, 1.3438, 1.338, 1.3373, 1.3359, 1.3358, 1.3351, 1.332, 1.3315, 1.3314, 1.329, 1.3277, 1.3269, 1.3267, 1.3258, 1.3254, 1.3252, 1.3251, 1.3251, 1.3246, 1.3233, 1.3219, 1.3206, 1.3203, 1.3192, 1.3191, 1.3177, 1.3173, 1.3157, 1.3144, 1.3121, 1.3061, 1.3043, 1.3007, 1.2965, 1.2985, 1.2975, 1.3042, 1.2906, 1.2822, 1.289, 1.2635, 1.2549, 1.2158, 1.2365, 1.1889, 1.2674, 1.1478, 1.2117, 1.2059, 1.2386, 1.0526, 0.9157, 1.0322, 1.0534, 0.9186, 0.937, 0.5083, 0.4839, 0.4089, 0.6055, 0.4068, 0.1545, 0.8035, 0.517, 0.0191, 0.0992, 0.1816, 0.2524, 0.5077, 0.1513, 1.8308, 1.8258, 1.825, 1.8144, 1.814, 1.8134, 1.8114, 1.806, 1.8046, 1.7995, 1.7994, 1.798, 1.7958, 1.7957, 1.7949, 1.7928, 1.791, 1.7897, 1.7834, 1.7808, 1.7785, 1.7783, 1.7771, 1.7767, 1.7735, 1.7735, 1.7728, 1.7713, 1.7698, 1.7652, 1.7594, 1.7403, 1.7463, 1.6847, 1.7545, 1.6685, 1.5912, 1.7082, 1.7482, 1.5783, 1.6297, 1.5096, 1.6091, 1.6796, 1.6149, 1.2977, 1.3502, 1.3514, 1.3851, 1.0392, 1.2926, 0.8467, 1.4138, 0.978, 0.5749, 0.9496, 0.4131, 1.0388, 0.8192, 0.8557, 0.5437, 0.8242, 0.2077, -0.0268, 0.128, 0.0639, 0.1804, 0.2581, 0.0595]}, \"token.table\": {\"Topic\": [1, 2, 3, 4, 1, 2, 3, 4, 1, 2, 3, 4, 1, 2, 3, 4, 1, 2, 3, 4, 1, 2, 3, 4, 1, 2, 3, 4, 1, 2, 3, 4, 1, 2, 3, 4, 1, 2, 3, 4, 1, 2, 3, 4, 1, 2, 3, 4, 1, 2, 3, 4, 1, 2, 3, 4, 1, 2, 3, 4, 1, 2, 3, 4, 1, 2, 3, 4, 1, 2, 3, 4, 1, 2, 3, 4, 1, 2, 3, 4, 1, 2, 3, 4, 1, 2, 3, 4, 1, 2, 3, 4, 1, 2, 3, 4, 1, 2, 3, 4, 1, 2, 3, 4, 1, 2, 3, 4, 1, 2, 3, 4, 1, 2, 3, 4, 1, 2, 3, 4, 1, 2, 3, 4, 1, 2, 3, 4, 1, 2, 3, 4, 1, 2, 3, 4, 1, 2, 3, 4, 1, 2, 3, 4, 1, 2, 3, 4, 1, 2, 3, 4, 1, 2, 3, 4, 1, 2, 3, 4, 1, 2, 3, 4, 1, 2, 3, 4, 1, 2, 3, 4, 1, 2, 3, 4, 1, 2, 3, 4, 1, 2, 3, 4, 1, 2, 3, 4, 1, 2, 3, 4, 1, 2, 3, 4, 1, 2, 3, 4, 1, 2, 3, 4, 1, 2, 3, 4, 1, 2, 3, 4, 1, 2, 3, 4, 1, 2, 3, 4, 1, 2, 3, 4, 1, 2, 3, 4, 1, 2, 3, 4, 1, 2, 3, 4, 1, 2, 3, 4, 1, 2, 3, 4, 1, 2, 3, 4, 1, 2, 3, 4, 1, 2, 3, 4, 1, 2, 3, 4, 1, 2, 3, 4, 1, 2, 3, 4, 1, 2, 3, 4, 1, 2, 3, 4, 1, 2, 3, 4, 1, 2, 3, 4, 1, 2, 3, 4, 1, 2, 3, 4, 1, 2, 3, 4, 1, 2, 3, 4, 1, 2, 3, 4, 1, 2, 3, 4, 1, 2, 3, 4, 1, 2, 3, 4, 1, 2, 3, 4, 1, 2, 3, 4, 1, 2, 3, 4, 1, 2, 3, 4, 1, 2, 3, 4, 1, 2, 3, 4, 1, 2, 3, 4, 1, 2, 3, 4, 1, 2, 3, 4, 1, 2, 3, 4, 1, 2, 3, 4, 1, 2, 3, 4, 1, 2, 3, 4, 1, 2, 3, 4, 1, 2, 3, 4, 1, 2, 3, 4, 1, 2, 3, 4, 1, 2, 3, 4, 1, 2, 3, 4, 1, 2, 3, 4, 1, 2, 3, 4, 1, 2, 3, 4, 1, 2, 3, 4, 1, 2, 3, 4, 1, 2, 3, 4, 1, 2, 3, 4, 1, 2, 3, 4, 1, 2, 3, 4, 1, 2, 3, 4, 1, 2, 3, 4, 1, 2, 3, 4, 1, 2, 3, 4, 1, 2, 3, 4, 1, 2, 3, 4, 1, 2, 3, 4, 1, 2, 3, 4, 1, 2, 3, 4, 1, 2, 3, 4, 1, 2, 3, 4, 1, 2, 3, 4, 1, 2, 3, 4, 1, 2, 3, 4, 1, 2, 3, 4, 1, 2, 3, 4, 1, 2, 3, 4, 1, 2, 3, 4, 1, 2, 3, 4, 1, 2, 3, 4, 1, 2, 3, 4, 1, 2, 3, 4, 1, 2, 3, 4, 1, 2, 3, 4, 1, 2, 3, 4, 1, 2, 3, 4, 1, 2, 3, 4, 1, 2, 3, 4, 1, 2, 3, 4, 1, 2, 3, 4, 1, 2, 3, 4, 1, 2, 3, 4, 1, 2, 3, 4, 1, 2, 3, 4, 1, 2, 3, 4, 1, 2, 3, 4, 1, 2, 3, 4, 1, 2, 3, 4, 1, 2, 3, 4, 1, 2, 3, 4, 1, 2, 3, 4, 1, 2, 3, 4, 1, 2, 3, 4, 1, 2, 3, 4, 1, 2, 3, 4, 1, 2, 3, 4, 1, 2, 3, 4, 1, 2, 3, 4, 1, 2, 3, 4, 1, 2, 3, 4, 1, 2, 3, 4, 1, 2, 3, 4, 1, 2, 3, 4, 1, 2, 3, 4, 1, 2, 3, 4, 1, 2, 3, 4, 1, 2, 3, 4, 1, 2, 3, 4, 1, 2, 3, 4, 1, 2, 3, 4, 1, 2, 3, 4, 1, 2, 3, 4, 1, 2, 3, 4, 1, 2, 3, 4, 1, 2, 3, 4, 1, 2, 3, 4, 1, 2, 3, 4, 1, 2, 3, 4, 1, 2, 3, 4, 1, 2, 3, 4, 1, 2, 3, 4, 1, 2, 3, 4, 1, 2, 3, 4, 1, 2, 3, 4, 1, 2, 3, 4, 1, 2, 3, 4, 1, 2, 3, 4, 1, 2, 3, 4, 1, 2, 3, 4, 1, 2, 3, 4, 1, 2, 3, 4, 1, 2, 3, 4, 1, 2, 3, 4, 1, 2, 3, 4, 1, 2, 3, 4, 1, 2, 3, 4, 1, 2, 3, 4, 1, 2, 3, 4, 1, 2, 3, 4, 1, 2, 3, 4, 1, 2, 3, 4, 1, 2, 3, 4, 1, 2, 3, 4, 1, 2, 3, 4, 1, 2, 3, 4, 1, 2, 3, 4, 1, 2, 3, 4, 1, 2, 3, 4, 1, 2, 3, 4, 1, 2, 3, 4, 1, 2, 3, 4, 1, 2, 3, 4, 1, 2, 3, 4, 1, 2, 3, 4, 1, 2, 3, 4, 1, 2, 3, 4, 1, 2, 3, 4, 1, 2, 3, 4, 1, 2, 3, 4, 1, 2, 3, 4, 1, 2, 3, 4, 1, 2, 3, 4, 1, 2, 3, 4, 1, 2, 3, 4, 1, 2, 3, 4, 1, 2, 3, 4, 1, 2, 3, 4, 1, 2, 3, 4, 1, 2, 3, 4, 1, 2, 3, 4, 1, 2, 3, 4, 1, 2, 3, 4, 1, 2, 3, 4, 1, 2, 3, 4, 1, 2, 3, 4, 1, 2, 3, 4, 1, 2, 3, 4, 1, 2, 3, 4, 1, 2, 3, 4, 1, 2, 3, 4, 1, 2, 3, 4, 1, 2, 3, 4, 1, 2, 3, 4, 1, 2, 3, 4, 1, 2, 3, 4, 1, 2, 3, 4, 1, 2, 3, 4, 1, 2, 3, 4, 1, 2, 3, 4, 1, 2, 3, 4, 1, 2, 3, 4, 1, 2, 3, 4, 1, 2, 3, 4, 1, 2, 3, 4, 1, 2, 3, 4, 1, 2, 3, 4, 1, 2, 3, 4, 1, 2, 3, 4, 1, 2, 3, 4, 1, 2, 3, 4, 1, 2, 3, 4, 1, 2, 3, 4, 1, 2, 3, 4, 1, 2, 3, 4, 1, 2, 3, 4, 1, 2, 3, 4, 1, 2, 3, 4, 1, 2, 3, 4, 1, 2, 3, 4, 1, 2, 3, 4], \"Freq\": [0.009061930008543087, 0.06413058159892032, 0.9229227177931576, 0.004182429234712195, 0.04239819592970728, 0.552928538653538, 0.3570558814245597, 0.04765417063173712, 0.07136577533787854, 0.5935391954699724, 0.13256607686309413, 0.20247964165630652, 0.015604866299872424, 0.9440944111422817, 0.015604866299872424, 0.023407299449808634, 0.9555242027512298, 0.017749675592902102, 0.011833117061934734, 0.014791396327418419, 0.03273351932366988, 0.038578790631468074, 0.09936961223256928, 0.8300285257073433, 0.010609939657901201, 0.021219879315802402, 0.04951305173687227, 0.9195281036847708, 0.01408986264302166, 0.9601234972459046, 0.012077025122589995, 0.01408986264302166, 0.011057698963035198, 0.011057698963035198, 0.964784234524821, 0.013822123703793997, 0.007922356969554987, 0.04187531541050493, 0.9438922446584085, 0.005658826406824991, 0.013138096427032231, 0.045044902035539076, 0.8406035624652943, 0.1011164207151945, 0.012578332571771015, 0.09433749428828261, 0.6533744974781055, 0.23968711511763657, 0.08732465529901004, 0.5852962655800736, 0.09257518837078596, 0.23461592515461877, 0.009841454769893685, 0.9644625674495811, 0.009841454769893685, 0.017222545847313947, 0.047779330726986514, 0.2021881434422478, 0.7335875290887319, 0.01660623080145263, 0.04052482653259427, 0.8573252190895497, 0.08645296326953443, 0.016209930613037705, 0.01598811695983532, 0.025244395199739977, 0.006731838719930661, 0.9517136990301971, 0.008934182580126912, 0.008934182580126912, 0.08487473451120567, 0.895651803657723, 0.009847530299004557, 0.014771295448506836, 0.9625960867276955, 0.012309412873755697, 0.01310654741087653, 0.021844245684794216, 0.03385858081143104, 0.9305648661722337, 0.024224556681152105, 0.15342219231396334, 0.035760059862653105, 0.7867213169783683, 0.019790490120089783, 0.019790490120089783, 0.024738112650112228, 0.9351006581742423, 0.009623806804632368, 0.02165356531042283, 0.9599747287620788, 0.012029758505790461, 0.010653160822981692, 0.013316451028727114, 0.9667743446855885, 0.010653160822981692, 0.016112863757816467, 0.9466307457717176, 0.020141079697270588, 0.016112863757816467, 0.009620447350368294, 0.6634791276116064, 0.2750120983950109, 0.052083111517511105, 0.02100748089788736, 0.9523391340375603, 0.014004987265258239, 0.014004987265258239, 0.01690010621749315, 0.9464059481796163, 0.022533474956657532, 0.014083421847910957, 0.010295514747085755, 0.04481577007554976, 0.939919934557476, 0.00484494811627565, 0.01631650548780656, 0.009064725271003646, 0.13415793401085396, 0.8393935600949376, 0.00748407387975821, 0.01496814775951642, 0.9691875674286882, 0.00748407387975821, 0.0026778026438781105, 0.004686154626786693, 0.9894480769129619, 0.0026778026438781105, 0.010778627157214057, 0.021557254314428113, 0.9636092678549367, 0.005030026006699893, 0.9254244788058595, 0.01876564846245453, 0.014247992351122883, 0.04135392901911276, 0.7596661176832673, 0.032929075665706145, 0.1429479253705073, 0.06432656641672828, 0.025730346785556607, 0.013341661296214538, 0.951069855258722, 0.010006245972160903, 0.008335227703509722, 0.958551185903618, 0.018754262332896874, 0.012502841555264583, 0.01928131680060048, 0.011568790080360289, 0.9576387344298238, 0.010283368960320257, 0.007974748215601459, 0.01993687053900365, 0.9649445340877766, 0.007974748215601459, 0.0033086129627178497, 0.0715487553187735, 0.3217626106243109, 0.6034082890756679, 0.013935292750167822, 0.017419115937709777, 0.9545675533864958, 0.013935292750167822, 0.005252305600589545, 0.3006492171371946, 0.3296274549335507, 0.36476356826163253, 0.013617323519566288, 0.6645253877548348, 0.1066690342366026, 0.21515371160914734, 0.006327900005224029, 0.01581975001306007, 0.03322147502742615, 0.9460210507809923, 0.8169830398881129, 0.012173012514297128, 0.16068376518872207, 0.01008621036898905, 0.2102747744248879, 0.03515848318358254, 0.12981593790861246, 0.6247392011851975, 0.9657144524350858, 0.007031901352682664, 0.011719835587804438, 0.01523578626414577, 0.005080758223938814, 0.9104718737298355, 0.07417907006950669, 0.011177668092665391, 0.9562912499254133, 0.01899916390580291, 0.010555091058779395, 0.014777127482291154, 0.00495507559739933, 0.9778015845534679, 0.008258459328998885, 0.008258459328998885, 0.012449257351509977, 0.006639603920805322, 0.059756435287247896, 0.9212450440117383, 0.012200104429792465, 0.9455080933089159, 0.018300156644688696, 0.02440020885958493, 0.007162386896986369, 0.01193731149497728, 0.9693096933921552, 0.009549849195981825, 0.8646716766367291, 0.03151901615929754, 0.02521521292743803, 0.07827222346225554, 0.015512383025538992, 0.9366741868068104, 0.02919977981277928, 0.01824986238298705, 0.5811114558185031, 0.12110033754734056, 0.16846276464430984, 0.12932495063603583, 0.010916673762054933, 0.008733339009643947, 0.010916673762054933, 0.971583964822889, 0.3522047938044632, 0.22385597025576012, 0.384513902913542, 0.03958753478749762, 0.9059400753435776, 0.01400680403623422, 0.05452648714105464, 0.025512393065998045, 0.3248880514478668, 0.26959418226853604, 0.3853017233289875, 0.020186650652771553, 0.9473499430124033, 0.01584736224489135, 0.009938176323067456, 0.02712853536837333, 0.016247897215027785, 0.013539914345856488, 0.9586259356866393, 0.013539914345856488, 0.963909941387585, 0.014875153416475077, 0.005950061366590031, 0.014875153416475077, 0.010627078200924171, 0.9503644219683616, 0.03036308057406906, 0.009108924172220718, 0.011128937284766082, 0.013911171605957602, 0.013911171605957602, 0.9598708408110745, 0.008502423025672513, 0.9522713788753215, 0.02763287483343567, 0.01275363453850877, 0.006871960629112754, 0.029549430705184843, 0.1202593110094732, 0.8431895691921348, 0.016729756025926353, 0.014339790879365445, 0.9583760237709239, 0.00955986058624363, 0.023592357138868907, 0.023592357138868907, 0.03302929999441647, 0.9201019284158873, 0.008578977326743368, 0.007506605160900448, 0.07506605160900448, 0.9082992244689542, 0.004942057881501005, 0.003953646305200804, 0.062269929306912664, 0.9281184701458887, 0.007981256038503422, 0.019953140096258554, 0.10974227052942205, 0.8639709661679954, 0.9436466406183258, 0.008657308629525925, 0.010100193401113578, 0.03751500406127901, 0.18644978693798792, 0.12162452989001199, 0.6396092028733625, 0.05247758903883766, 0.015508016642801747, 0.031016033285603494, 0.9449194968217478, 0.008021387918690559, 0.012356426921263321, 0.015445533651579151, 0.9607121931282232, 0.012356426921263321, 0.010503779652183137, 0.9327356331138625, 0.025209071165239526, 0.03151133895654941, 0.9727601344895289, 0.008790001215266827, 0.005860000810177885, 0.01172000162035577, 0.5816729223369537, 0.06975782278948707, 0.15607354637296228, 0.19256225367823243, 0.013980714629736534, 0.01747589328717067, 0.9541837734795184, 0.013980714629736534, 0.04398093077645804, 0.014459484090890314, 0.9362515948851479, 0.005422306534083867, 0.04714235566739862, 0.7366588304794512, 0.1899979789019399, 0.026190197592999235, 0.20693014606664512, 0.6527451684021309, 0.05149985644237345, 0.08872866832842655, 0.01256561218553371, 0.9612693321933289, 0.01256561218553371, 0.01570701523191714, 0.013076212138021133, 0.03269053034505283, 0.04903579551757924, 0.9055276905579634, 0.958115023272244, 0.008600673458458203, 0.006880538766766564, 0.027522155067066255, 0.06735334046607883, 0.02143060833011599, 0.015307577378654279, 0.8970240343891408, 0.0038689901840850806, 0.008511778404987177, 0.9811759106839765, 0.006190384294536129, 0.7670317399705527, 0.08333604270190041, 0.0782338360058657, 0.07167385596810677, 0.009540325631971845, 0.9397220747492268, 0.023850814079929613, 0.028620976895915536, 0.7939565445734152, 0.027168400277270653, 0.1575767216081698, 0.021415091983260397, 0.8109753995655621, 0.011013246166939732, 0.12615172882130965, 0.052563220342212356, 0.06729855814639026, 0.8927359754112992, 0.012360959659541065, 0.02746879924342459, 0.9305821506453466, 0.031664421004945625, 0.023748315753709223, 0.014952643252335435, 0.07059611795081835, 0.013697754229263262, 0.023180814849522446, 0.8914076983043632, 0.014123374779239027, 0.008827109237024391, 0.9692165942252782, 0.007061687389619513, 0.01083165207890907, 0.012456399890745429, 0.9737655218939253, 0.0032494956236727205, 0.011674022623176813, 0.006485568123987119, 0.9754294458476627, 0.005188454499189695, 0.006600401054549847, 0.011550701845462233, 0.9752092558097399, 0.006600401054549847, 0.008847486132012675, 0.0117966481760169, 0.9643759883893815, 0.014745810220021126, 0.955141741059209, 0.01664010001845312, 0.013312080014762494, 0.01664010001845312, 0.003636244353437794, 0.8926979887689784, 0.007272488706875588, 0.09545141427774209, 0.08406334816400657, 0.5399087493401479, 0.09580049488879239, 0.28010542048610493, 0.005624307648234523, 0.7716550093377765, 0.20697452145503045, 0.015185630650233211, 0.007008782398660286, 0.045167708791366286, 0.9368405806209249, 0.010123796798064858, 0.023246665149873266, 0.38393702758053844, 0.42945155092660614, 0.163460761264372, 0.18523827383698677, 0.43249227253934025, 0.35348963173259046, 0.028850793741714096, 0.8838568279092914, 0.05283015195283241, 0.026415075976416205, 0.03647796206267, 0.006905365887020748, 0.9487972728766507, 0.03176468308029544, 0.012429658596637345, 0.9633198043696736, 0.011712094885953478, 0.011712094885953478, 0.011712094885953478, 0.008765376321946645, 0.0058435842146310965, 0.008765376321946645, 0.9758785638433932, 0.9639090962813286, 0.010546051381633791, 0.008436841105307034, 0.018982892486940826, 0.925990662411471, 0.027205383988149853, 0.014308016764138072, 0.03244493942290464, 0.9589321755611463, 0.01343042262690681, 0.0062675305592231785, 0.022384037711511352, 0.013453191626412753, 0.9551766054753055, 0.018834468276977854, 0.013453191626412753, 0.017651243674927628, 0.9461066609761208, 0.017651243674927628, 0.017651243674927628, 0.8696987584362875, 0.007419231114622358, 0.058117310397875134, 0.06471218249976167, 0.1712331391929297, 0.44506844087813763, 0.11430844948804154, 0.2694741359416883, 0.9702744123743914, 0.010294688725457734, 0.010294688725457734, 0.010294688725457734, 0.9626135083619014, 0.010001179307656118, 0.015001768961484177, 0.012501474134570147, 0.3354317169532098, 0.17939943513452566, 0.29793120477698015, 0.187314116096343, 0.008792343468683196, 0.9385826652819311, 0.043961717343415974, 0.008792343468683196, 0.004348923856618657, 0.10679024136808035, 0.8813819016080479, 0.006764992665851244, 0.956187257289003, 0.012103636168215227, 0.009682908934572182, 0.021786545102787408, 0.005573674486229712, 0.9600654302530679, 0.009753930350901996, 0.023688116566476274, 0.006046329288007163, 0.11630292218696131, 0.17000855292161318, 0.7077761931255444, 0.011486764482190671, 0.015315685976254228, 0.9572303735158892, 0.015315685976254228, 0.07151548389485106, 0.09341588953202766, 0.2626110587466753, 0.5725114889576965, 0.007706076630769083, 0.01926519157692271, 0.9613330596884431, 0.011559114946153625, 0.01965051311787892, 0.2557788100917355, 0.3089318373778014, 0.41588217106855224, 0.313858587795663, 0.12545621179604316, 0.2827489362031332, 0.27795165348092066, 0.5502227467836691, 0.08809872808862189, 0.27375947475108847, 0.08809872808862189, 0.03176168047986687, 0.04427385763860231, 0.14244632457637263, 0.7815298348379364, 0.02673012405888082, 0.09883929593865233, 0.11686658890859522, 0.7577679355296679, 0.5271892957637457, 0.12565550823398677, 0.21486286423984596, 0.13230075145789952, 0.007667550570282541, 0.6712940524282365, 0.1966726721277472, 0.1245976967670913, 0.009848891614158794, 0.8695164310785907, 0.06331430323387796, 0.0572173703298749, 0.008327926905731354, 0.18737835537895547, 0.036285967232115184, 0.7679538310927985, 0.007575514529093861, 0.01420408974205099, 0.9289474691301347, 0.04829390512297336, 0.10918724924040218, 0.647777564300857, 0.058767449132448885, 0.1843160904608624, 0.01305153632701844, 0.20121118504153432, 0.21643797742305582, 0.5699170862798053, 0.008439672213505642, 0.012659508320258464, 0.9089526973945578, 0.07004927937209683, 0.22383921336527085, 0.10076046701339905, 0.6416505309810917, 0.033805628997980786, 0.008497593881723466, 0.004248796940861733, 0.016995187763446933, 0.9704252212928197, 0.004859867481882221, 0.03037417176176388, 0.004859867481882221, 0.9598238276717387, 0.011369064090376907, 0.8947453439126626, 0.043202443543432244, 0.05229769481573377, 0.011223826931087996, 0.9428014622113916, 0.011223826931087996, 0.03647743752603599, 0.013715635132278258, 0.013715635132278258, 0.013715635132278258, 0.9600944592594781, 0.11625576662688948, 0.024112307152243745, 0.25576268657915685, 0.6040994095463924, 0.003801993709524019, 0.007603987419048038, 0.9638054053643389, 0.02376246068452512, 0.879379946536676, 0.012373613997847454, 0.03200072585650204, 0.07637506571085152, 0.015229589330155509, 0.02030611910687401, 0.02030611910687401, 0.9442345384696414, 0.11451948200290754, 0.4520505868535824, 0.06559165377875509, 0.36802236012079886, 0.8531402178061485, 0.05838982479281624, 0.018381981879219928, 0.07028404836172325, 0.010935717296265387, 0.8227304645890327, 0.13341575101443773, 0.033171675798671675, 0.6099178745753804, 0.05393831543863908, 0.3280753581899641, 0.00800183800463327, 0.011727859474259797, 0.9593389049944513, 0.018764575158815675, 0.011727859474259797, 0.003905731735754635, 0.020238791721637655, 0.5716570995059057, 0.4040657013898886, 0.012362868436523495, 0.012362868436523495, 0.02472573687304699, 0.9519408696123092, 0.58428678304142, 0.16058776032863975, 0.09159090112541178, 0.16350312057666347, 0.0073005455351745074, 0.03163569731908953, 0.8833660097561153, 0.07787248570852807, 0.011003305519165124, 0.9572875801673658, 0.0146710740255535, 0.0146710740255535, 0.004539704096155871, 0.7155708581565692, 0.1645642734856503, 0.11462752842793575, 0.00935738035776473, 0.00935738035776473, 0.023393450894411822, 0.9567921415814435, 0.019817379748535143, 0.9472707519799798, 0.015853903798828114, 0.015853903798828114, 0.965779870681982, 0.007828003004514545, 0.0107635041312075, 0.01663450638459341, 0.9025908701433746, 0.027255201837194595, 0.06718724173820063, 0.00316920951595286, 0.02018096540521509, 0.013117627513389808, 0.168511061133546, 0.7981571817762568, 0.010922244981103325, 0.06137261465572344, 0.8602568189878523, 0.0676138975020682, 0.01600679522387658, 0.9540049953430442, 0.012805436179101263, 0.01600679522387658, 0.004631145803219573, 0.9453326370821954, 0.04573256480679329, 0.004052252577817127, 0.017399193658950755, 0.9439062559980784, 0.021748992073688442, 0.017399193658950755, 0.007312925000617516, 0.9634778688313578, 0.02011054375169817, 0.009141156250771896, 0.9330626670381821, 0.00595825457878788, 0.041707782051515166, 0.01906641465212122, 0.9604047981075547, 0.011433390453661367, 0.011433390453661367, 0.014291738067076709, 0.014869553337260836, 0.018586941671576044, 0.048326048346097716, 0.9181949185758567, 0.8542822568175533, 0.021531827749574996, 0.10458316335507854, 0.019294754736632138, 0.8973962705509203, 0.02471642270585162, 0.03878577101533639, 0.03916602367234949, 0.02393592322230229, 0.029919904027877864, 0.02393592322230229, 0.9275170248642137, 0.6235074519822699, 0.01046934154447841, 0.19310118848704624, 0.1729380121791619, 0.08907860067668646, 0.028559551361991082, 0.8635864340411589, 0.01869970624892273, 0.017461672888055536, 0.039288763998124955, 0.02182709111006942, 0.9211032448449296, 0.009900858471169335, 0.009900858471169335, 0.9628584863212178, 0.017326502324546335, 0.002177272407465891, 0.0816477152799709, 0.9057453215058106, 0.010342043935462982, 0.004604975260809631, 0.649301511774158, 0.27253080861700635, 0.07367960417295409, 0.012980732639791066, 0.006490366319895533, 0.97355494798433, 0.006490366319895533, 0.016057421329298386, 0.020436718055470673, 0.9437384444901279, 0.020436718055470673, 0.005163003770108986, 0.011616758482745218, 0.9732262106655438, 0.010326007540217973, 0.9683887047354982, 0.011130904652132163, 0.00708330296044774, 0.012142805075053269, 0.07665181514574769, 0.8009763068899689, 0.1075938322688018, 0.014064553237751869, 0.6803162124665438, 0.008103387479298303, 0.11086907414858131, 0.20074300800988976, 0.9769568652499165, 0.006731002024359661, 0.0038462868710626634, 0.01153886061318799, 0.9566199040091791, 0.013360613184485741, 0.010688490547588593, 0.018704858458280037, 0.7160976433775952, 0.03957045801195268, 0.12254077319830506, 0.12211528440247761, 0.026346734108828204, 0.026346734108828204, 0.026346734108828204, 0.9287223773361942, 0.003469725814577678, 0.11995337816111401, 0.8550395757352135, 0.02131403000383431, 0.011841760910602458, 0.011841760910602458, 0.9621430739864497, 0.014802201138253071, 0.9718668943272368, 0.008703285620840927, 0.005802190413893951, 0.01305492843126139, 0.9645845341741603, 0.012133138794643526, 0.012133138794643526, 0.012133138794643526, 0.003243064708419903, 0.9631902184007111, 0.021620431389466017, 0.01189123726420631, 0.011128314782874597, 0.6706408552484082, 0.26093979490878366, 0.05717651388442466, 0.006671676209220424, 0.9657251312846563, 0.015011271470745952, 0.013343352418440847, 0.008596578310490365, 0.9284304575329595, 0.049430325285319605, 0.012894867465735548, 0.9438547198432913, 0.019027881381397656, 0.010770498895130749, 0.02656723060798918, 0.228548272465326, 0.019254982661913913, 0.10883251069777429, 0.6429489862760819, 0.9692928167450269, 0.006826005751725541, 0.010921609202760866, 0.012286810353105974, 0.020057506331358787, 0.020057506331358787, 0.020057506331358787, 0.9427027975738629, 0.01266300105388951, 0.3112987759081171, 0.3193890265814354, 0.35667452968455454, 0.019540558344195217, 0.20919891874373703, 0.7341119566172164, 0.036782227471426295, 0.015020370989441475, 0.6264051012633741, 0.2175172243285784, 0.14102459428975606, 0.6829639288388607, 0.1656106522223911, 0.05292340407976411, 0.09864634501942426, 0.4314543555878298, 0.0837982423813687, 0.306986907510611, 0.17776378618669994, 0.21198954609503565, 0.13182543202548436, 0.21421632704141208, 0.44201601785572037, 0.009544602475540294, 0.940143343840719, 0.023861506188850735, 0.02863380742662088, 0.005050509288186789, 0.887627007398828, 0.016414155186607063, 0.0909091671873622, 0.8401313330955775, 0.01867741638173893, 0.04369810625161561, 0.09726352681811216, 0.01737543201185467, 0.7434578788102665, 0.19850114752937004, 0.040718184108588726, 0.005884127991207257, 0.9076267426437195, 0.0720805678922889, 0.013239287980216329, 0.20117383457368926, 0.3194918888452001, 0.12461509357447638, 0.35495416281453246, 0.00878683865219344, 0.04952581785781757, 0.9306060936186689, 0.010384445679864974, 0.06078356427028036, 0.03285598068663803, 0.8980634721014394, 0.008213995171659508, 0.1840800276043202, 0.07130101627876835, 0.7188376496950828, 0.025709501062055894, 0.3939557388325657, 0.2760238083905411, 0.29883368794105614, 0.03130291980868554, 0.01582916294040295, 0.008793979411334972, 0.029899529998538905, 0.946232184659643, 0.9552035714602346, 0.016823546268379865, 0.007477131674835496, 0.020562112105797614, 0.1396832713960243, 0.37248872372273145, 0.4690598743175137, 0.01896933315254651, 0.007734015269806077, 0.005524296621290055, 0.9645421900772436, 0.02209718648516022, 0.969307351861402, 0.007049508013537469, 0.008224426015793715, 0.014099016027074938, 0.02552429332393378, 0.47475185582516827, 0.05754567949395979, 0.44180231353427196, 0.004350546427497159, 0.8300842583664579, 0.13834737639440967, 0.027843497135981818, 0.9669576742263569, 0.009397061945834373, 0.0056382371675006236, 0.017854417697085307, 0.015052930321505002, 0.025088217202508336, 0.020070573762006667, 0.9433169668143134, 0.14971540867006314, 0.2544623402755569, 0.4254502620480211, 0.17044937713696037, 0.02412423201715593, 0.9448657540052738, 0.01608282134477062, 0.01608282134477062, 0.8103642507025114, 0.05306959230172372, 0.07581370328817674, 0.06065096263054139, 0.9611996459852014, 0.0094792864495582, 0.007583429159646559, 0.020854430189028036, 0.06364181448715302, 0.07122466897923933, 0.806761554711612, 0.0582254898499485, 0.01441315207795388, 0.8412729291816239, 0.1107536949148035, 0.033377825864735304, 0.09393357797573788, 0.7894583811035699, 0.08144379475458714, 0.03512751530948646, 0.9541657469158812, 0.011043585033748625, 0.0176697360539978, 0.0176697360539978, 0.006822099973708853, 0.8950595165506016, 0.07231425972131385, 0.02455955990535187, 0.8439762000426636, 0.014162834783324637, 0.09656478261357707, 0.045707330437093144, 0.018854985947908118, 0.8720431000907505, 0.07070619730465544, 0.038299190206688365, 0.0827481655421009, 0.5931314403222979, 0.17506794724765376, 0.14882319325109192, 0.015820768799817104, 0.015820768799817104, 0.9532013201889804, 0.015820768799817104, 0.0027612926339858736, 0.05591617583821394, 0.9381491723967006, 0.0034516157924823422, 0.007354880763297404, 0.03383245151116806, 0.014709761526594808, 0.9443666900073866, 0.9839903470757972, 0.005497152776959761, 0.005497152776959761, 0.005497152776959761, 0.9581026025398806, 0.014194112630220452, 0.014194112630220452, 0.014194112630220452, 0.05114484110044857, 0.8102419563807906, 0.03566679708320756, 0.10296264063642936, 0.7022916720488399, 0.043831437063583154, 0.22344146112112315, 0.03064904997679123, 0.9790506197872494, 0.004441577665917528, 0.003807066570786453, 0.012690221902621509, 0.01662145494023303, 0.024932182410349547, 0.02077681867529129, 0.9391122041231663, 0.008339480722559215, 0.9507008023717505, 0.005559653815039476, 0.03335792289023686, 0.026561466244935415, 0.026561466244935415, 0.026561466244935415, 0.9230109520115057, 0.013949992038641211, 0.027899984077282423, 0.018599989384854947, 0.9392994639351749, 0.017927082188584124, 0.9501353559949586, 0.017927082188584124, 0.017927082188584124, 0.32035097604427326, 0.09757629219307712, 0.4153121582288257, 0.16671326304344833, 0.1504502800566416, 0.3797529081513554, 0.23356065488876962, 0.23639933941814023, 0.1439197983708166, 0.27822689148826724, 0.4256668354448235, 0.15231399169065724, 0.21876272176303468, 0.34487908580781257, 0.2703479376992708, 0.16596982518615092, 0.013284403819767768, 0.024354740336240906, 0.03763914415600867, 0.9254801327771545, 0.9555896101373477, 0.01431594921554079, 0.013122953447579057, 0.016701940751464254, 0.8546103909791289, 0.05224196409972084, 0.05280981153558737, 0.040317167946523694, 0.9699566984318477, 0.012254069076398465, 0.008483586283660475, 0.009426206981844973, 0.006740543827149858, 0.06740543827149859, 0.010110815740724787, 0.9133436885788058, 0.008390676149872416, 0.9577357491068659, 0.026370696471027598, 0.008390676149872416], \"Term\": [\"ace\", \"ace\", \"ace\", \"ace\", \"acid\", \"acid\", \"acid\", \"acid\", \"activ\", \"activ\", \"activ\", \"activ\", \"adp\", \"adp\", \"adp\", \"adp\", \"airport\", \"airport\", \"airport\", \"airport\", \"airway\", \"airway\", \"airway\", \"airway\", \"ali\", \"ali\", \"ali\", \"ali\", \"analogu\", \"analogu\", \"analogu\", \"analogu\", \"ang\", \"ang\", \"ang\", \"ang\", \"angiotensin\", \"angiotensin\", \"angiotensin\", \"angiotensin\", \"antibodi\", \"antibodi\", \"antibodi\", \"antibodi\", \"antigen\", \"antigen\", \"antigen\", \"antigen\", \"antivir\", \"antivir\", \"antivir\", \"antivir\", \"aptam\", \"aptam\", \"aptam\", \"aptam\", \"assay\", \"assay\", \"assay\", \"assay\", \"assembl\", \"assembl\", \"assembl\", \"assembl\", \"asthma\", \"asthma\", \"asthma\", \"asthma\", \"astrocyt\", \"astrocyt\", \"astrocyt\", \"astrocyt\", \"astroviru\", \"astroviru\", \"astroviru\", \"astroviru\", \"autoimmun\", \"autoimmun\", \"autoimmun\", \"autoimmun\", \"autophagi\", \"autophagi\", \"autophagi\", \"autophagi\", \"axon\", \"axon\", \"axon\", \"axon\", \"bcov\", \"bcov\", \"bcov\", \"bcov\", \"bcv\", \"bcv\", \"bcv\", \"bcv\", \"bilay\", \"bilay\", \"bilay\", \"bilay\", \"bind\", \"bind\", \"bind\", \"bind\", \"bioaerosol\", \"bioaerosol\", \"bioaerosol\", \"bioaerosol\", \"bond\", \"bond\", \"bond\", \"bond\", \"bovin\", \"bovin\", \"bovin\", \"bovin\", \"bronchiol\", \"bronchiol\", \"bronchiol\", \"bronchiol\", \"calf\", \"calf\", \"calf\", \"calf\", \"calv\", \"calv\", \"calv\", \"calv\", \"canin\", \"canin\", \"canin\", \"canin\", \"care\", \"care\", \"care\", \"care\", \"case\", \"case\", \"case\", \"case\", \"cat\", \"cat\", \"cat\", \"cat\", \"catalyt\", \"catalyt\", \"catalyt\", \"catalyt\", \"cattl\", \"cattl\", \"cattl\", \"cattl\", \"ccov\", \"ccov\", \"ccov\", \"ccov\", \"cd\", \"cd\", \"cd\", \"cd\", \"cdv\", \"cdv\", \"cdv\", \"cdv\", \"cell\", \"cell\", \"cell\", \"cell\", \"cellular\", \"cellular\", \"cellular\", \"cellular\", \"chemokin\", \"chemokin\", \"chemokin\", \"chemokin\", \"china\", \"china\", \"china\", \"china\", \"chronic\", \"chronic\", \"chronic\", \"chronic\", \"citi\", \"citi\", \"citi\", \"citi\", \"cleavag\", \"cleavag\", \"cleavag\", \"cleavag\", \"climat\", \"climat\", \"climat\", \"climat\", \"clpro\", \"clpro\", \"clpro\", \"clpro\", \"cn\", \"cn\", \"cn\", \"cn\", \"coil\", \"coil\", \"coil\", \"coil\", \"colostrum\", \"colostrum\", \"colostrum\", \"colostrum\", \"commun\", \"commun\", \"commun\", \"commun\", \"compound\", \"compound\", \"compound\", \"compound\", \"control\", \"control\", \"control\", \"control\", \"copd\", \"copd\", \"copd\", \"copd\", \"coronaviru\", \"coronaviru\", \"coronaviru\", \"coronaviru\", \"countri\", \"countri\", \"countri\", \"countri\", \"cov\", \"cov\", \"cov\", \"cov\", \"covid\", \"covid\", \"covid\", \"covid\", \"cow\", \"cow\", \"cow\", \"cow\", \"crisi\", \"crisi\", \"crisi\", \"crisi\", \"crystal\", \"crystal\", \"crystal\", \"crystal\", \"cxcl\", \"cxcl\", \"cxcl\", \"cxcl\", \"cystein\", \"cystein\", \"cystein\", \"cystein\", \"cytokin\", \"cytokin\", \"cytokin\", \"cytokin\", \"dairi\", \"dairi\", \"dairi\", \"dairi\", \"dan\", \"dan\", \"dan\", \"dan\", \"dc\", \"dc\", \"dc\", \"dc\", \"demyelin\", \"demyelin\", \"demyelin\", \"demyelin\", \"dendrit\", \"dendrit\", \"dendrit\", \"dendrit\", \"depart\", \"depart\", \"depart\", \"depart\", \"detect\", \"detect\", \"detect\", \"detect\", \"diarrhea\", \"diarrhea\", \"diarrhea\", \"diarrhea\", \"diarrheic\", \"diarrheic\", \"diarrheic\", \"diarrheic\", \"dimer\", \"dimer\", \"dimer\", \"dimer\", \"disast\", \"disast\", \"disast\", \"disast\", \"diseas\", \"diseas\", \"diseas\", \"diseas\", \"distemp\", \"distemp\", \"distemp\", \"distemp\", \"dog\", \"dog\", \"dog\", \"dog\", \"domain\", \"domain\", \"domain\", \"domain\", \"drug\", \"drug\", \"drug\", \"drug\", \"dub\", \"dub\", \"dub\", \"dub\", \"ebv\", \"ebv\", \"ebv\", \"ebv\", \"educ\", \"educ\", \"educ\", \"educ\", \"el\", \"el\", \"el\", \"el\", \"elisa\", \"elisa\", \"elisa\", \"elisa\", \"emerg\", \"emerg\", \"emerg\", \"emerg\", \"endoplasm\", \"endoplasm\", \"endoplasm\", \"endoplasm\", \"epidem\", \"epidem\", \"epidem\", \"epidem\", \"epidemiolog\", \"epidemiolog\", \"epidemiolog\", \"epidemiolog\", \"er\", \"er\", \"er\", \"er\", \"estim\", \"estim\", \"estim\", \"estim\", \"exacerb\", \"exacerb\", \"exacerb\", \"exacerb\", \"fcov\", \"fcov\", \"fcov\", \"fcov\", \"felin\", \"felin\", \"felin\", \"felin\", \"fip\", \"fip\", \"fip\", \"fip\", \"fipv\", \"fipv\", \"fipv\", \"fipv\", \"fiv\", \"fiv\", \"fiv\", \"fiv\", \"forecast\", \"forecast\", \"forecast\", \"forecast\", \"frameshift\", \"frameshift\", \"frameshift\", \"frameshift\", \"function\", \"function\", \"function\", \"function\", \"fusion\", \"fusion\", \"fusion\", \"fusion\", \"gastroenter\", \"gastroenter\", \"gastroenter\", \"gastroenter\", \"gene\", \"gene\", \"gene\", \"gene\", \"genom\", \"genom\", \"genom\", \"genom\", \"global\", \"global\", \"global\", \"global\", \"golgi\", \"golgi\", \"golgi\", \"golgi\", \"hajj\", \"hajj\", \"hajj\", \"hajj\", \"hbov\", \"hbov\", \"hbov\", \"hbov\", \"hcw\", \"hcw\", \"hcw\", \"hcw\", \"health\", \"health\", \"health\", \"health\", \"healthcar\", \"healthcar\", \"healthcar\", \"healthcar\", \"helic\", \"helic\", \"helic\", \"helic\", \"helix\", \"helix\", \"helix\", \"helix\", \"hospit\", \"hospit\", \"hospit\", \"hospit\", \"host\", \"host\", \"host\", \"host\", \"hotel\", \"hotel\", \"hotel\", \"hotel\", \"hubei\", \"hubei\", \"hubei\", \"hubei\", \"human\", \"human\", \"human\", \"human\", \"hydrophob\", \"hydrophob\", \"hydrophob\", \"hydrophob\", \"ibv\", \"ibv\", \"ibv\", \"ibv\", \"icu\", \"icu\", \"icu\", \"icu\", \"ifitm\", \"ifitm\", \"ifitm\", \"ifitm\", \"ifn\", \"ifn\", \"ifn\", \"ifn\", \"igi\", \"igi\", \"igi\", \"igi\", \"immun\", \"immun\", \"immun\", \"immun\", \"immunosorb\", \"immunosorb\", \"immunosorb\", \"immunosorb\", \"induc\", \"induc\", \"induc\", \"induc\", \"infect\", \"infect\", \"infect\", \"infect\", \"infecti\", \"infecti\", \"infecti\", \"infecti\", \"inflamm\", \"inflamm\", \"inflamm\", \"inflamm\", \"inflammatori\", \"inflammatori\", \"inflammatori\", \"inflammatori\", \"influenza\", \"influenza\", \"influenza\", \"influenza\", \"inhibit\", \"inhibit\", \"inhibit\", \"inhibit\", \"inhibitor\", \"inhibitor\", \"inhibitor\", \"inhibitor\", \"innat\", \"innat\", \"innat\", \"innat\", \"inocul\", \"inocul\", \"inocul\", \"inocul\", \"interact\", \"interact\", \"interact\", \"interact\", \"interferon\", \"interferon\", \"interferon\", \"interferon\", \"intestin\", \"intestin\", \"intestin\", \"intestin\", \"isol\", \"isol\", \"isol\", \"isol\", \"la\", \"la\", \"la\", \"la\", \"le\", \"le\", \"le\", \"le\", \"lipid\", \"lipid\", \"lipid\", \"lipid\", \"lncrna\", \"lncrna\", \"lncrna\", \"lncrna\", \"lo\", \"lo\", \"lo\", \"lo\", \"lung\", \"lung\", \"lung\", \"lung\", \"mab\", \"mab\", \"mab\", \"mab\", \"manag\", \"manag\", \"manag\", \"manag\", \"mbp\", \"mbp\", \"mbp\", \"mbp\", \"mechan\", \"mechan\", \"mechan\", \"mechan\", \"medic\", \"medic\", \"medic\", \"medic\", \"membran\", \"membran\", \"membran\", \"membran\", \"mer\", \"mer\", \"mer\", \"mer\", \"metal\", \"metal\", \"metal\", \"metal\", \"mice\", \"mice\", \"mice\", \"mice\", \"microglia\", \"microglia\", \"microglia\", \"microglia\", \"model\", \"model\", \"model\", \"model\", \"monoclon\", \"monoclon\", \"monoclon\", \"monoclon\", \"mpro\", \"mpro\", \"mpro\", \"mpro\", \"mrna\", \"mrna\", \"mrna\", \"mrna\", \"myelin\", \"myelin\", \"myelin\", \"myelin\", \"nanomateri\", \"nanomateri\", \"nanomateri\", \"nanomateri\", \"nation\", \"nation\", \"nation\", \"nation\", \"ncov\", \"ncov\", \"ncov\", \"ncov\", \"nervou\", \"nervou\", \"nervou\", \"nervou\", \"neutral\", \"neutral\", \"neutral\", \"neutral\", \"nmr\", \"nmr\", \"nmr\", \"nmr\", \"nsp\", \"nsp\", \"nsp\", \"nsp\", \"nucleolar\", \"nucleolar\", \"nucleolar\", \"nucleolar\", \"nucleosid\", \"nucleosid\", \"nucleosid\", \"nucleosid\", \"nurs\", \"nurs\", \"nurs\", \"nurs\", \"offici\", \"offici\", \"offici\", \"offici\", \"otiti\", \"otiti\", \"otiti\", \"otiti\", \"outbreak\", \"outbreak\", \"outbreak\", \"outbreak\", \"pandem\", \"pandem\", \"pandem\", \"pandem\", \"par\", \"par\", \"par\", \"par\", \"patient\", \"patient\", \"patient\", \"patient\", \"pcr\", \"pcr\", \"pcr\", \"pcr\", \"pdc\", \"pdc\", \"pdc\", \"pdc\", \"pdcov\", \"pdcov\", \"pdcov\", \"pdcov\", \"pedv\", \"pedv\", \"pedv\", \"pedv\", \"peptid\", \"peptid\", \"peptid\", \"peptid\", \"periton\", \"periton\", \"periton\", \"periton\", \"pig\", \"pig\", \"pig\", \"pig\", \"piglet\", \"piglet\", \"piglet\", \"piglet\", \"plan\", \"plan\", \"plan\", \"plan\", \"plant\", \"plant\", \"plant\", \"plant\", \"pneumonia\", \"pneumonia\", \"pneumonia\", \"pneumonia\", \"polici\", \"polici\", \"polici\", \"polici\", \"polit\", \"polit\", \"polit\", \"polit\", \"popul\", \"popul\", \"popul\", \"popul\", \"por\", \"por\", \"por\", \"por\", \"porcin\", \"porcin\", \"porcin\", \"porcin\", \"prcv\", \"prcv\", \"prcv\", \"prcv\", \"prepared\", \"prepared\", \"prepared\", \"prepared\", \"price\", \"price\", \"price\", \"price\", \"proteas\", \"proteas\", \"proteas\", \"proteas\", \"protein\", \"protein\", \"protein\", \"protein\", \"proteinas\", \"proteinas\", \"proteinas\", \"proteinas\", \"proteolyt\", \"proteolyt\", \"proteolyt\", \"proteolyt\", \"public\", \"public\", \"public\", \"public\", \"pulmonari\", \"pulmonari\", \"pulmonari\", \"pulmonari\", \"quarantin\", \"quarantin\", \"quarantin\", \"quarantin\", \"que\", \"que\", \"que\", \"que\", \"receptor\", \"receptor\", \"receptor\", \"receptor\", \"recombin\", \"recombin\", \"recombin\", \"recombin\", \"replic\", \"replic\", \"replic\", \"replic\", \"research\", \"research\", \"research\", \"research\", \"respiratori\", \"respiratori\", \"respiratori\", \"respiratori\", \"respons\", \"respons\", \"respons\", \"respons\", \"reticulum\", \"reticulum\", \"reticulum\", \"reticulum\", \"ribosom\", \"ribosom\", \"ribosom\", \"ribosom\", \"risk\", \"risk\", \"risk\", \"risk\", \"rna\", \"rna\", \"rna\", \"rna\", \"rnai\", \"rnai\", \"rnai\", \"rnai\", \"role\", \"role\", \"role\", \"role\", \"rotaviru\", \"rotaviru\", \"rotaviru\", \"rotaviru\", \"rt\", \"rt\", \"rt\", \"rt\", \"sampl\", \"sampl\", \"sampl\", \"sampl\", \"sar\", \"sar\", \"sar\", \"sar\", \"sclerosi\", \"sclerosi\", \"sclerosi\", \"sclerosi\", \"secur\", \"secur\", \"secur\", \"secur\", \"sequenc\", \"sequenc\", \"sequenc\", \"sequenc\", \"sera\", \"sera\", \"sera\", \"sera\", \"servic\", \"servic\", \"servic\", \"servic\", \"signal\", \"signal\", \"signal\", \"signal\", \"sirna\", \"sirna\", \"sirna\", \"sirna\", \"social\", \"social\", \"social\", \"social\", \"sont\", \"sont\", \"sont\", \"sont\", \"specif\", \"specif\", \"specif\", \"specif\", \"spectroscopi\", \"spectroscopi\", \"spectroscopi\", \"spectroscopi\", \"spread\", \"spread\", \"spread\", \"spread\", \"staff\", \"staff\", \"staff\", \"staff\", \"strain\", \"strain\", \"strain\", \"strain\", \"strand\", \"strand\", \"strand\", \"strand\", \"structur\", \"structur\", \"structur\", \"structur\", \"student\", \"student\", \"student\", \"student\", \"substrat\", \"substrat\", \"substrat\", \"substrat\", \"surveil\", \"surveil\", \"surveil\", \"surveil\", \"synthesi\", \"synthesi\", \"synthesi\", \"synthesi\", \"target\", \"target\", \"target\", \"target\", \"tge\", \"tge\", \"tge\", \"tge\", \"tgev\", \"tgev\", \"tgev\", \"tgev\", \"tlr\", \"tlr\", \"tlr\", \"tlr\", \"tourism\", \"tourism\", \"tourism\", \"tourism\", \"tourist\", \"tourist\", \"tourist\", \"tourist\", \"translat\", \"translat\", \"translat\", \"translat\", \"transmiss\", \"transmiss\", \"transmiss\", \"transmiss\", \"travel\", \"travel\", \"travel\", \"travel\", \"treg\", \"treg\", \"treg\", \"treg\", \"ubiquitin\", \"ubiquitin\", \"ubiquitin\", \"ubiquitin\", \"una\", \"una\", \"una\", \"una\", \"une\", \"une\", \"une\", \"une\", \"usp\", \"usp\", \"usp\", \"usp\", \"vaccin\", \"vaccin\", \"vaccin\", \"vaccin\", \"viral\", \"viral\", \"viral\", \"viral\", \"viru\", \"viru\", \"viru\", \"viru\", \"virus\", \"virus\", \"virus\", \"virus\", \"wheez\", \"wheez\", \"wheez\", \"wheez\", \"worker\", \"worker\", \"worker\", \"worker\", \"world\", \"world\", \"world\", \"world\", \"wuhan\", \"wuhan\", \"wuhan\", \"wuhan\", \"zikv\", \"zikv\", \"zikv\", \"zikv\", \"\\u03bcm\", \"\\u03bcm\", \"\\u03bcm\", \"\\u03bcm\"]}, \"R\": 30, \"lambda.step\": 0.01, \"plot.opts\": {\"xlab\": \"PC1\", \"ylab\": \"PC2\"}, \"topic.order\": [2, 4, 3, 1]};\n",
       "\n",
       "function LDAvis_load_lib(url, callback){\n",
       "  var s = document.createElement('script');\n",
       "  s.src = url;\n",
       "  s.async = true;\n",
       "  s.onreadystatechange = s.onload = callback;\n",
       "  s.onerror = function(){console.warn(\"failed to load library \" + url);};\n",
       "  document.getElementsByTagName(\"head\")[0].appendChild(s);\n",
       "}\n",
       "\n",
       "if(typeof(LDAvis) !== \"undefined\"){\n",
       "   // already loaded: just create the visualization\n",
       "   !function(LDAvis){\n",
       "       new LDAvis(\"#\" + \"ldavis_el53421406740918583445622122450\", ldavis_el53421406740918583445622122450_data);\n",
       "   }(LDAvis);\n",
       "}else if(typeof define === \"function\" && define.amd){\n",
       "   // require.js is available: use it to load d3/LDAvis\n",
       "   require.config({paths: {d3: \"https://cdnjs.cloudflare.com/ajax/libs/d3/3.5.5/d3.min\"}});\n",
       "   require([\"d3\"], function(d3){\n",
       "      window.d3 = d3;\n",
       "      LDAvis_load_lib(\"https://cdn.rawgit.com/bmabey/pyLDAvis/files/ldavis.v1.0.0.js\", function(){\n",
       "        new LDAvis(\"#\" + \"ldavis_el53421406740918583445622122450\", ldavis_el53421406740918583445622122450_data);\n",
       "      });\n",
       "    });\n",
       "}else{\n",
       "    // require.js not available: dynamically load d3 & LDAvis\n",
       "    LDAvis_load_lib(\"https://cdnjs.cloudflare.com/ajax/libs/d3/3.5.5/d3.min.js\", function(){\n",
       "         LDAvis_load_lib(\"https://cdn.rawgit.com/bmabey/pyLDAvis/files/ldavis.v1.0.0.js\", function(){\n",
       "                 new LDAvis(\"#\" + \"ldavis_el53421406740918583445622122450\", ldavis_el53421406740918583445622122450_data);\n",
       "            })\n",
       "         });\n",
       "}\n",
       "</script>"
      ],
      "text/plain": [
       "<IPython.core.display.HTML object>"
      ]
     },
     "execution_count": 21,
     "metadata": {},
     "output_type": "execute_result"
    }
   ],
   "source": [
    "vis = pyLDAvis.gensim.prepare(lda_model_tfidf, bow_corpus, dictionary=dictionary)\n",
    "pyLDAvis.display(vis)"
   ]
  },
  {
   "cell_type": "markdown",
   "metadata": {
    "_cell_guid": "dcc157b3-13f8-4669-bd26-bf73c612e30e",
    "_uuid": "26fd31b8-8b09-43a4-95de-55255f7d0774"
   },
   "source": [
    "# LDA filtering: keep documents related to vaccine"
   ]
  },
  {
   "cell_type": "markdown",
   "metadata": {
    "_cell_guid": "3b555fbb-5acb-4695-8c33-959b562e2e4d",
    "_uuid": "66179c86-8f65-4833-995e-bcde0a5e7aaf"
   },
   "source": [
    "add new columns to data frame to place the topic related probability for each article"
   ]
  },
  {
   "cell_type": "code",
   "execution_count": 22,
   "metadata": {
    "_cell_guid": "b729deaf-940d-4f7f-bfe5-6aa1d1d25966",
    "_uuid": "15437c7b-f130-4554-a563-b6fba0d95b5a"
   },
   "outputs": [],
   "source": [
    "new_columns = ['lda_dominant']\n",
    "topics = [('topic_' + str(i)) for i in range(lda_model_tfidf.num_topics)]\n",
    "new_columns.extend(topics)\n",
    "dataDf = pd.concat([dataDf, pd.DataFrame(columns=new_columns)], axis=1);"
   ]
  },
  {
   "cell_type": "markdown",
   "metadata": {
    "_cell_guid": "ab7a69e4-6437-40d9-b834-07045df05c8f",
    "_uuid": "c4fbcdbc-2c38-47a7-bf7a-4b507a6f4fd0"
   },
   "source": [
    "check what topic is dominant in each article"
   ]
  },
  {
   "cell_type": "code",
   "execution_count": 23,
   "metadata": {
    "_cell_guid": "3ccb9ed9-2534-4177-903f-7a743eaac28b",
    "_uuid": "75b3b1f6-c99f-45b8-8c5a-7d54d836be6c"
   },
   "outputs": [],
   "source": [
    "for idx, row in dataDf.iterrows():\n",
    "\n",
    "    doc = dataDf.loc[idx].norm_text\n",
    "    bow = dictionary.doc2bow(doc)\n",
    "    res = lda_model_tfidf.get_document_topics(bow)\n",
    "\n",
    "    for topic_num, val in res:\n",
    "        dataDf.loc[idx, topics[topic_num]] = val\n",
    "    dataDf.loc[idx, 'lda_dominant'] = np.nanargmax(dataDf.loc[idx, topics].values)"
   ]
  },
  {
   "cell_type": "markdown",
   "metadata": {
    "_cell_guid": "f14c5317-8275-4b9d-83ec-9a79a84b1dd2",
    "_uuid": "600c64bf-fad6-407b-9ec7-90ded9446a8e"
   },
   "source": [
    "from now, we will keep only the documents related to vaccine"
   ]
  },
  {
   "cell_type": "code",
   "execution_count": 24,
   "metadata": {
    "_cell_guid": "2f7f0081-0096-4cec-bdea-e40b8b759b4b",
    "_uuid": "c63b630c-2f5d-4ddf-bd79-08354c7111a4"
   },
   "outputs": [],
   "source": [
    "vaccinLdaDf = dataDf.loc[dataDf['lda_dominant'] == vaccinTopic]"
   ]
  },
  {
   "cell_type": "markdown",
   "metadata": {
    "_cell_guid": "227946fa-a587-4287-aafe-6406666fabe4",
    "_uuid": "5d524c70-16c7-4ca2-8392-1bbde05e8f0c"
   },
   "source": [
    "we reduced the number of articles from 22000 to :"
   ]
  },
  {
   "cell_type": "code",
   "execution_count": 25,
   "metadata": {
    "_cell_guid": "bf1af53e-f87d-4c37-bdf2-a7dfb5506fec",
    "_uuid": "388439ee-dac8-444d-be94-16635d5c2025"
   },
   "outputs": [
    {
     "name": "stdout",
     "output_type": "stream",
     "text": [
      "number of articles after lda filtering: 6605\n"
     ]
    }
   ],
   "source": [
    "print('number of articles after lda filtering: {}'.format(len(vaccinLdaDf)))"
   ]
  },
  {
   "cell_type": "markdown",
   "metadata": {
    "_cell_guid": "0031169a-7585-40c0-82cc-72368da9d473",
    "_uuid": "4cc735e8-d2c4-44be-bada-ac09ee7e4e2d"
   },
   "source": [
    "# KNN filtering"
   ]
  },
  {
   "cell_type": "markdown",
   "metadata": {
    "_cell_guid": "d6b9e62b-8156-4ace-b2ef-8728347f030b",
    "_uuid": "88d5eb7b-bae9-4206-bf01-f5e760cc6265"
   },
   "source": [
    "We will now split the words into 10 clusters thanks to  k-means algorithm:\n",
    "> k-means clustering is a method of vector quantization, originally from signal processing, that aims to partition n observations into k clusters in which each observation belongs to the cluster with the nearest mean (cluster centers or cluster centroid), serving as a prototype of the cluster. This results in a partitioning of the data space into Voronoi cells."
   ]
  },
  {
   "cell_type": "code",
   "execution_count": 26,
   "metadata": {
    "_cell_guid": "653fcaf3-5ef6-46e7-854f-614a9263edeb",
    "_uuid": "2e4d3ef1-592e-43d0-a533-64d26e907e8e"
   },
   "outputs": [
    {
     "name": "stdout",
     "output_type": "stream",
     "text": [
      "Top terms per cluster:\n"
     ]
    },
    {
     "data": {
      "text/html": [
       "<div>\n",
       "<style scoped>\n",
       "    .dataframe tbody tr th:only-of-type {\n",
       "        vertical-align: middle;\n",
       "    }\n",
       "\n",
       "    .dataframe tbody tr th {\n",
       "        vertical-align: top;\n",
       "    }\n",
       "\n",
       "    .dataframe thead th {\n",
       "        text-align: right;\n",
       "    }\n",
       "</style>\n",
       "<table border=\"1\" class=\"dataframe\">\n",
       "  <thead>\n",
       "    <tr style=\"text-align: right;\">\n",
       "      <th></th>\n",
       "      <th>cluster_0</th>\n",
       "      <th>cluster_1</th>\n",
       "      <th>cluster_2</th>\n",
       "      <th>cluster_3</th>\n",
       "      <th>cluster_4</th>\n",
       "      <th>cluster_5</th>\n",
       "      <th>cluster_6</th>\n",
       "      <th>cluster_7</th>\n",
       "      <th>cluster_8</th>\n",
       "      <th>cluster_9</th>\n",
       "    </tr>\n",
       "  </thead>\n",
       "  <tbody>\n",
       "    <tr>\n",
       "      <th>0</th>\n",
       "      <td>calv</td>\n",
       "      <td>antibodi</td>\n",
       "      <td>viru</td>\n",
       "      <td>pedv</td>\n",
       "      <td>mer</td>\n",
       "      <td>ace</td>\n",
       "      <td>sar</td>\n",
       "      <td>ibv</td>\n",
       "      <td>pcr</td>\n",
       "      <td>mhv</td>\n",
       "    </tr>\n",
       "    <tr>\n",
       "      <th>1</th>\n",
       "      <td>respiratori</td>\n",
       "      <td>vaccin</td>\n",
       "      <td>cat</td>\n",
       "      <td>diarrhea</td>\n",
       "      <td>cov</td>\n",
       "      <td>angiotensin</td>\n",
       "      <td>cov</td>\n",
       "      <td>bronchiti</td>\n",
       "      <td>detect</td>\n",
       "      <td>hepat</td>\n",
       "    </tr>\n",
       "    <tr>\n",
       "      <th>2</th>\n",
       "      <td>children</td>\n",
       "      <td>immun</td>\n",
       "      <td>infect</td>\n",
       "      <td>porcin</td>\n",
       "      <td>east</td>\n",
       "      <td>ang</td>\n",
       "      <td>protein</td>\n",
       "      <td>infecti</td>\n",
       "      <td>assay</td>\n",
       "      <td>mice</td>\n",
       "    </tr>\n",
       "    <tr>\n",
       "      <th>3</th>\n",
       "      <td>hcov</td>\n",
       "      <td>viru</td>\n",
       "      <td>sequenc</td>\n",
       "      <td>epidem</td>\n",
       "      <td>middl</td>\n",
       "      <td>convert</td>\n",
       "      <td>coronaviru</td>\n",
       "      <td>strain</td>\n",
       "      <td>rt</td>\n",
       "      <td>mous</td>\n",
       "    </tr>\n",
       "    <tr>\n",
       "      <th>4</th>\n",
       "      <td>infect</td>\n",
       "      <td>neutral</td>\n",
       "      <td>strain</td>\n",
       "      <td>strain</td>\n",
       "      <td>camel</td>\n",
       "      <td>enzym</td>\n",
       "      <td>syndrom</td>\n",
       "      <td>avian</td>\n",
       "      <td>sensit</td>\n",
       "      <td>viru</td>\n",
       "    </tr>\n",
       "    <tr>\n",
       "      <th>5</th>\n",
       "      <td>rotaviru</td>\n",
       "      <td>protein</td>\n",
       "      <td>felin</td>\n",
       "      <td>viru</td>\n",
       "      <td>respiratori</td>\n",
       "      <td>sar</td>\n",
       "      <td>antibodi</td>\n",
       "      <td>viru</td>\n",
       "      <td>method</td>\n",
       "      <td>jhm</td>\n",
       "    </tr>\n",
       "    <tr>\n",
       "      <th>6</th>\n",
       "      <td>human</td>\n",
       "      <td>antigen</td>\n",
       "      <td>cell</td>\n",
       "      <td>piglet</td>\n",
       "      <td>syndrom</td>\n",
       "      <td>receptor</td>\n",
       "      <td>acut</td>\n",
       "      <td>sequenc</td>\n",
       "      <td>real</td>\n",
       "      <td>murin</td>\n",
       "    </tr>\n",
       "    <tr>\n",
       "      <th>7</th>\n",
       "      <td>detect</td>\n",
       "      <td>protect</td>\n",
       "      <td>isol</td>\n",
       "      <td>pig</td>\n",
       "      <td>coronaviru</td>\n",
       "      <td>ncov</td>\n",
       "      <td>sever</td>\n",
       "      <td>gene</td>\n",
       "      <td>respiratori</td>\n",
       "      <td>strain</td>\n",
       "    </tr>\n",
       "    <tr>\n",
       "      <th>8</th>\n",
       "      <td>patient</td>\n",
       "      <td>epitop</td>\n",
       "      <td>coronaviru</td>\n",
       "      <td>china</td>\n",
       "      <td>human</td>\n",
       "      <td>renin</td>\n",
       "      <td>respiratori</td>\n",
       "      <td>vaccin</td>\n",
       "      <td>influenza</td>\n",
       "      <td>cell</td>\n",
       "    </tr>\n",
       "    <tr>\n",
       "      <th>9</th>\n",
       "      <td>sampl</td>\n",
       "      <td>mab</td>\n",
       "      <td>virus</td>\n",
       "      <td>sequenc</td>\n",
       "      <td>dromedari</td>\n",
       "      <td>ra</td>\n",
       "      <td>patient</td>\n",
       "      <td>isol</td>\n",
       "      <td>sampl</td>\n",
       "      <td>infect</td>\n",
       "    </tr>\n",
       "    <tr>\n",
       "      <th>10</th>\n",
       "      <td>virus</td>\n",
       "      <td>respons</td>\n",
       "      <td>dog</td>\n",
       "      <td>ped</td>\n",
       "      <td>dpp</td>\n",
       "      <td>cov</td>\n",
       "      <td>vaccin</td>\n",
       "      <td>recombin</td>\n",
       "      <td>amplif</td>\n",
       "      <td>protein</td>\n",
       "    </tr>\n",
       "    <tr>\n",
       "      <th>11</th>\n",
       "      <td>bovin</td>\n",
       "      <td>monoclon</td>\n",
       "      <td>diseas</td>\n",
       "      <td>genom</td>\n",
       "      <td>antibodi</td>\n",
       "      <td>axi</td>\n",
       "      <td>human</td>\n",
       "      <td>genom</td>\n",
       "      <td>test</td>\n",
       "      <td>resist</td>\n",
       "    </tr>\n",
       "    <tr>\n",
       "      <th>12</th>\n",
       "      <td>viru</td>\n",
       "      <td>specif</td>\n",
       "      <td>genom</td>\n",
       "      <td>isol</td>\n",
       "      <td>infect</td>\n",
       "      <td>ma</td>\n",
       "      <td>spike</td>\n",
       "      <td>chicken</td>\n",
       "      <td>viru</td>\n",
       "      <td>demyelin</td>\n",
       "    </tr>\n",
       "    <tr>\n",
       "      <th>13</th>\n",
       "      <td>tract</td>\n",
       "      <td>recombin</td>\n",
       "      <td>gene</td>\n",
       "      <td>protein</td>\n",
       "      <td>neutral</td>\n",
       "      <td>cardiovascular</td>\n",
       "      <td>infect</td>\n",
       "      <td>genotyp</td>\n",
       "      <td>rapid</td>\n",
       "      <td>balb</td>\n",
       "    </tr>\n",
       "    <tr>\n",
       "      <th>14</th>\n",
       "      <td>hmpv</td>\n",
       "      <td>human</td>\n",
       "      <td>viral</td>\n",
       "      <td>swine</td>\n",
       "      <td>rbd</td>\n",
       "      <td>function</td>\n",
       "      <td>neutral</td>\n",
       "      <td>protein</td>\n",
       "      <td>virus</td>\n",
       "      <td>macrophag</td>\n",
       "    </tr>\n",
       "    <tr>\n",
       "      <th>15</th>\n",
       "      <td>hbov</td>\n",
       "      <td>mice</td>\n",
       "      <td>detect</td>\n",
       "      <td>variant</td>\n",
       "      <td>vaccin</td>\n",
       "      <td>regul</td>\n",
       "      <td>epitop</td>\n",
       "      <td>qx</td>\n",
       "      <td>multiplex</td>\n",
       "      <td>antibodi</td>\n",
       "    </tr>\n",
       "    <tr>\n",
       "      <th>16</th>\n",
       "      <td>diarrhea</td>\n",
       "      <td>influenza</td>\n",
       "      <td>studi</td>\n",
       "      <td>gene</td>\n",
       "      <td>protein</td>\n",
       "      <td>role</td>\n",
       "      <td>respons</td>\n",
       "      <td>serotyp</td>\n",
       "      <td>specif</td>\n",
       "      <td>mutant</td>\n",
       "    </tr>\n",
       "    <tr>\n",
       "      <th>17</th>\n",
       "      <td>age</td>\n",
       "      <td>vector</td>\n",
       "      <td>canin</td>\n",
       "      <td>outbreak</td>\n",
       "      <td>receptor</td>\n",
       "      <td>cell</td>\n",
       "      <td>immun</td>\n",
       "      <td>china</td>\n",
       "      <td>reaction</td>\n",
       "      <td>liver</td>\n",
       "    </tr>\n",
       "    <tr>\n",
       "      <th>18</th>\n",
       "      <td>viral</td>\n",
       "      <td>develop</td>\n",
       "      <td>human</td>\n",
       "      <td>vaccin</td>\n",
       "      <td>bind</td>\n",
       "      <td>activ</td>\n",
       "      <td>detect</td>\n",
       "      <td>poultri</td>\n",
       "      <td>revers</td>\n",
       "      <td>glycoprotein</td>\n",
       "    </tr>\n",
       "    <tr>\n",
       "      <th>19</th>\n",
       "      <td>coronaviru</td>\n",
       "      <td>elisa</td>\n",
       "      <td>sampl</td>\n",
       "      <td>virul</td>\n",
       "      <td>spike</td>\n",
       "      <td>hypertens</td>\n",
       "      <td>cell</td>\n",
       "      <td>coronaviru</td>\n",
       "      <td>rna</td>\n",
       "      <td>recombin</td>\n",
       "    </tr>\n",
       "    <tr>\n",
       "      <th>20</th>\n",
       "      <td>associ</td>\n",
       "      <td>tgev</td>\n",
       "      <td>type</td>\n",
       "      <td>caus</td>\n",
       "      <td>viru</td>\n",
       "      <td>lung</td>\n",
       "      <td>specif</td>\n",
       "      <td>ck</td>\n",
       "      <td>specimen</td>\n",
       "      <td>gene</td>\n",
       "    </tr>\n",
       "    <tr>\n",
       "      <th>21</th>\n",
       "      <td>studi</td>\n",
       "      <td>induc</td>\n",
       "      <td>protein</td>\n",
       "      <td>complet</td>\n",
       "      <td>mice</td>\n",
       "      <td>coronaviru</td>\n",
       "      <td>associ</td>\n",
       "      <td>type</td>\n",
       "      <td>clinic</td>\n",
       "      <td>coronaviru</td>\n",
       "    </tr>\n",
       "    <tr>\n",
       "      <th>22</th>\n",
       "      <td>nl</td>\n",
       "      <td>cell</td>\n",
       "      <td>porcin</td>\n",
       "      <td>field</td>\n",
       "      <td>dipeptidyl</td>\n",
       "      <td>kidney</td>\n",
       "      <td>develop</td>\n",
       "      <td>analysi</td>\n",
       "      <td>develop</td>\n",
       "      <td>type</td>\n",
       "    </tr>\n",
       "    <tr>\n",
       "      <th>23</th>\n",
       "      <td>year</td>\n",
       "      <td>challeng</td>\n",
       "      <td>speci</td>\n",
       "      <td>detect</td>\n",
       "      <td>peptidas</td>\n",
       "      <td>protein</td>\n",
       "      <td>assay</td>\n",
       "      <td>like</td>\n",
       "      <td>diagnosi</td>\n",
       "      <td>rna</td>\n",
       "    </tr>\n",
       "    <tr>\n",
       "      <th>24</th>\n",
       "      <td>calf</td>\n",
       "      <td>infect</td>\n",
       "      <td>bat</td>\n",
       "      <td>infect</td>\n",
       "      <td>case</td>\n",
       "      <td>diseas</td>\n",
       "      <td>viru</td>\n",
       "      <td>spike</td>\n",
       "      <td>isotherm</td>\n",
       "      <td>receptor</td>\n",
       "    </tr>\n",
       "    <tr>\n",
       "      <th>25</th>\n",
       "      <td>hrv</td>\n",
       "      <td>express</td>\n",
       "      <td>infecti</td>\n",
       "      <td>sampl</td>\n",
       "      <td>domain</td>\n",
       "      <td>acut</td>\n",
       "      <td>rbd</td>\n",
       "      <td>flock</td>\n",
       "      <td>viral</td>\n",
       "      <td>persist</td>\n",
       "    </tr>\n",
       "    <tr>\n",
       "      <th>26</th>\n",
       "      <td>posit</td>\n",
       "      <td>anti</td>\n",
       "      <td>pig</td>\n",
       "      <td>cell</td>\n",
       "      <td>develop</td>\n",
       "      <td>injuri</td>\n",
       "      <td>recombin</td>\n",
       "      <td>pathogen</td>\n",
       "      <td>diagnost</td>\n",
       "      <td>cultur</td>\n",
       "    </tr>\n",
       "    <tr>\n",
       "      <th>27</th>\n",
       "      <td>specimen</td>\n",
       "      <td>immunogen</td>\n",
       "      <td>rna</td>\n",
       "      <td>spike</td>\n",
       "      <td>viral</td>\n",
       "      <td>human</td>\n",
       "      <td>nucleocapsid</td>\n",
       "      <td>differ</td>\n",
       "      <td>transcript</td>\n",
       "      <td>antigen</td>\n",
       "    </tr>\n",
       "    <tr>\n",
       "      <th>28</th>\n",
       "      <td>hospit</td>\n",
       "      <td>assay</td>\n",
       "      <td>anim</td>\n",
       "      <td>orf</td>\n",
       "      <td>hdpp</td>\n",
       "      <td>bind</td>\n",
       "      <td>bind</td>\n",
       "      <td>region</td>\n",
       "      <td>pathogen</td>\n",
       "      <td>viral</td>\n",
       "    </tr>\n",
       "    <tr>\n",
       "      <th>29</th>\n",
       "      <td>adult</td>\n",
       "      <td>igg</td>\n",
       "      <td>differ</td>\n",
       "      <td>vero</td>\n",
       "      <td>anim</td>\n",
       "      <td>sever</td>\n",
       "      <td>covid</td>\n",
       "      <td>ib</td>\n",
       "      <td>primer</td>\n",
       "      <td>sjl</td>\n",
       "    </tr>\n",
       "    <tr>\n",
       "      <th>30</th>\n",
       "      <td>diseas</td>\n",
       "      <td>test</td>\n",
       "      <td>analysi</td>\n",
       "      <td>elisa</td>\n",
       "      <td>assay</td>\n",
       "      <td>action</td>\n",
       "      <td>receptor</td>\n",
       "      <td>rna</td>\n",
       "      <td>posit</td>\n",
       "      <td>replic</td>\n",
       "    </tr>\n",
       "    <tr>\n",
       "      <th>31</th>\n",
       "      <td>acut</td>\n",
       "      <td>glycoprotein</td>\n",
       "      <td>rat</td>\n",
       "      <td>ch</td>\n",
       "      <td>detect</td>\n",
       "      <td>heart</td>\n",
       "      <td>gene</td>\n",
       "      <td>variant</td>\n",
       "      <td>polymeras</td>\n",
       "      <td>spike</td>\n",
       "    </tr>\n",
       "    <tr>\n",
       "      <th>32</th>\n",
       "      <td>herd</td>\n",
       "      <td>strain</td>\n",
       "      <td>identifi</td>\n",
       "      <td>analysi</td>\n",
       "      <td>saudi</td>\n",
       "      <td>syndrom</td>\n",
       "      <td>ace</td>\n",
       "      <td>ch</td>\n",
       "      <td>patient</td>\n",
       "      <td>induc</td>\n",
       "    </tr>\n",
       "    <tr>\n",
       "      <th>33</th>\n",
       "      <td>caus</td>\n",
       "      <td>sera</td>\n",
       "      <td>cultur</td>\n",
       "      <td>assay</td>\n",
       "      <td>hku</td>\n",
       "      <td>respiratori</td>\n",
       "      <td>coronavirus</td>\n",
       "      <td>acid</td>\n",
       "      <td>infect</td>\n",
       "      <td>virus</td>\n",
       "    </tr>\n",
       "    <tr>\n",
       "      <th>34</th>\n",
       "      <td>clinic</td>\n",
       "      <td>peptid</td>\n",
       "      <td>enter</td>\n",
       "      <td>studi</td>\n",
       "      <td>arabia</td>\n",
       "      <td>compon</td>\n",
       "      <td>studi</td>\n",
       "      <td>attenu</td>\n",
       "      <td>base</td>\n",
       "      <td>specif</td>\n",
       "    </tr>\n",
       "    <tr>\n",
       "      <th>35</th>\n",
       "      <td>oc</td>\n",
       "      <td>base</td>\n",
       "      <td>result</td>\n",
       "      <td>emerg</td>\n",
       "      <td>diseas</td>\n",
       "      <td>physiolog</td>\n",
       "      <td>igg</td>\n",
       "      <td>bird</td>\n",
       "      <td>loop</td>\n",
       "      <td>inocul</td>\n",
       "    </tr>\n",
       "    <tr>\n",
       "      <th>36</th>\n",
       "      <td>diarrhoea</td>\n",
       "      <td>serum</td>\n",
       "      <td>caus</td>\n",
       "      <td>antibodi</td>\n",
       "      <td>immun</td>\n",
       "      <td>diabet</td>\n",
       "      <td>viral</td>\n",
       "      <td>infect</td>\n",
       "      <td>copi</td>\n",
       "      <td>brain</td>\n",
       "    </tr>\n",
       "    <tr>\n",
       "      <th>37</th>\n",
       "      <td>month</td>\n",
       "      <td>viral</td>\n",
       "      <td>influenza</td>\n",
       "      <td>recombin</td>\n",
       "      <td>model</td>\n",
       "      <td>infect</td>\n",
       "      <td>mice</td>\n",
       "      <td>studi</td>\n",
       "      <td>nucleic</td>\n",
       "      <td>coronavirus</td>\n",
       "    </tr>\n",
       "    <tr>\n",
       "      <th>38</th>\n",
       "      <td>case</td>\n",
       "      <td>effect</td>\n",
       "      <td>associ</td>\n",
       "      <td>farm</td>\n",
       "      <td>sampl</td>\n",
       "      <td>nl</td>\n",
       "      <td>antigen</td>\n",
       "      <td>cell</td>\n",
       "      <td>dna</td>\n",
       "      <td>rat</td>\n",
       "    </tr>\n",
       "    <tr>\n",
       "      <th>39</th>\n",
       "      <td>pcr</td>\n",
       "      <td>result</td>\n",
       "      <td>clinic</td>\n",
       "      <td>result</td>\n",
       "      <td>sever</td>\n",
       "      <td>effect</td>\n",
       "      <td>express</td>\n",
       "      <td>virus</td>\n",
       "      <td>result</td>\n",
       "      <td>protect</td>\n",
       "    </tr>\n",
       "    <tr>\n",
       "      <th>40</th>\n",
       "      <td>rsv</td>\n",
       "      <td>bind</td>\n",
       "      <td>pathogen</td>\n",
       "      <td>loss</td>\n",
       "      <td>patient</td>\n",
       "      <td>peptid</td>\n",
       "      <td>peptid</td>\n",
       "      <td>genet</td>\n",
       "      <td>perform</td>\n",
       "      <td>amino</td>\n",
       "    </tr>\n",
       "    <tr>\n",
       "      <th>41</th>\n",
       "      <td>ill</td>\n",
       "      <td>cd</td>\n",
       "      <td>coronavirus</td>\n",
       "      <td>delet</td>\n",
       "      <td>replic</td>\n",
       "      <td>express</td>\n",
       "      <td>sequenc</td>\n",
       "      <td>result</td>\n",
       "      <td>evalu</td>\n",
       "      <td>monoclon</td>\n",
       "    </tr>\n",
       "    <tr>\n",
       "      <th>42</th>\n",
       "      <td>pathogen</td>\n",
       "      <td>produc</td>\n",
       "      <td>transmiss</td>\n",
       "      <td>attenu</td>\n",
       "      <td>cell</td>\n",
       "      <td>renal</td>\n",
       "      <td>test</td>\n",
       "      <td>nucleotid</td>\n",
       "      <td>use</td>\n",
       "      <td>neurotrop</td>\n",
       "    </tr>\n",
       "    <tr>\n",
       "      <th>43</th>\n",
       "      <td>cryptosporidium</td>\n",
       "      <td>diseas</td>\n",
       "      <td>tgev</td>\n",
       "      <td>korea</td>\n",
       "      <td>high</td>\n",
       "      <td>entri</td>\n",
       "      <td>sampl</td>\n",
       "      <td>emerg</td>\n",
       "      <td>probe</td>\n",
       "      <td>differ</td>\n",
       "    </tr>\n",
       "    <tr>\n",
       "      <th>44</th>\n",
       "      <td>neonat</td>\n",
       "      <td>studi</td>\n",
       "      <td>novel</td>\n",
       "      <td>recent</td>\n",
       "      <td>respons</td>\n",
       "      <td>brain</td>\n",
       "      <td>induc</td>\n",
       "      <td>complet</td>\n",
       "      <td>chain</td>\n",
       "      <td>isol</td>\n",
       "    </tr>\n",
       "    <tr>\n",
       "      <th>45</th>\n",
       "      <td>identifi</td>\n",
       "      <td>dna</td>\n",
       "      <td>posit</td>\n",
       "      <td>genet</td>\n",
       "      <td>induc</td>\n",
       "      <td>pressur</td>\n",
       "      <td>result</td>\n",
       "      <td>detect</td>\n",
       "      <td>target</td>\n",
       "      <td>neurovirul</td>\n",
       "    </tr>\n",
       "    <tr>\n",
       "      <th>46</th>\n",
       "      <td>test</td>\n",
       "      <td>ha</td>\n",
       "      <td>gastroenter</td>\n",
       "      <td>suckl</td>\n",
       "      <td>recombin</td>\n",
       "      <td>rbd</td>\n",
       "      <td>anim</td>\n",
       "      <td>broiler</td>\n",
       "      <td>human</td>\n",
       "      <td>determin</td>\n",
       "    </tr>\n",
       "    <tr>\n",
       "      <th>47</th>\n",
       "      <td>dairi</td>\n",
       "      <td>detect</td>\n",
       "      <td>genet</td>\n",
       "      <td>pdcov</td>\n",
       "      <td>emerg</td>\n",
       "      <td>recent</td>\n",
       "      <td>sera</td>\n",
       "      <td>protect</td>\n",
       "      <td>compar</td>\n",
       "      <td>delet</td>\n",
       "    </tr>\n",
       "    <tr>\n",
       "      <th>48</th>\n",
       "      <td>bcov</td>\n",
       "      <td>gener</td>\n",
       "      <td>test</td>\n",
       "      <td>mortal</td>\n",
       "      <td>isol</td>\n",
       "      <td>level</td>\n",
       "      <td>emerg</td>\n",
       "      <td>phylogenet</td>\n",
       "      <td>quantit</td>\n",
       "      <td>neutral</td>\n",
       "    </tr>\n",
       "    <tr>\n",
       "      <th>49</th>\n",
       "      <td>cattl</td>\n",
       "      <td>use</td>\n",
       "      <td>fip</td>\n",
       "      <td>diseas</td>\n",
       "      <td>studi</td>\n",
       "      <td>new</td>\n",
       "      <td>target</td>\n",
       "      <td>field</td>\n",
       "      <td>mediat</td>\n",
       "      <td>genet</td>\n",
       "    </tr>\n",
       "  </tbody>\n",
       "</table>\n",
       "</div>"
      ],
      "text/plain": [
       "          cluster_0     cluster_1    cluster_2 cluster_3    cluster_4  \\\n",
       "0              calv      antibodi         viru      pedv          mer   \n",
       "1       respiratori        vaccin          cat  diarrhea          cov   \n",
       "2          children         immun       infect    porcin         east   \n",
       "3              hcov          viru      sequenc    epidem        middl   \n",
       "4            infect       neutral       strain    strain        camel   \n",
       "5          rotaviru       protein        felin      viru  respiratori   \n",
       "6             human       antigen         cell    piglet      syndrom   \n",
       "7            detect       protect         isol       pig   coronaviru   \n",
       "8           patient        epitop   coronaviru     china        human   \n",
       "9             sampl           mab        virus   sequenc    dromedari   \n",
       "10            virus       respons          dog       ped          dpp   \n",
       "11            bovin      monoclon       diseas     genom     antibodi   \n",
       "12             viru        specif        genom      isol       infect   \n",
       "13            tract      recombin         gene   protein      neutral   \n",
       "14             hmpv         human        viral     swine          rbd   \n",
       "15             hbov          mice       detect   variant       vaccin   \n",
       "16         diarrhea     influenza        studi      gene      protein   \n",
       "17              age        vector        canin  outbreak     receptor   \n",
       "18            viral       develop        human    vaccin         bind   \n",
       "19       coronaviru         elisa        sampl     virul        spike   \n",
       "20           associ          tgev         type      caus         viru   \n",
       "21            studi         induc      protein   complet         mice   \n",
       "22               nl          cell       porcin     field   dipeptidyl   \n",
       "23             year      challeng        speci    detect     peptidas   \n",
       "24             calf        infect          bat    infect         case   \n",
       "25              hrv       express      infecti     sampl       domain   \n",
       "26            posit          anti          pig      cell      develop   \n",
       "27         specimen     immunogen          rna     spike        viral   \n",
       "28           hospit         assay         anim       orf         hdpp   \n",
       "29            adult           igg       differ      vero         anim   \n",
       "30           diseas          test      analysi     elisa        assay   \n",
       "31             acut  glycoprotein          rat        ch       detect   \n",
       "32             herd        strain     identifi   analysi        saudi   \n",
       "33             caus          sera       cultur     assay          hku   \n",
       "34           clinic        peptid        enter     studi       arabia   \n",
       "35               oc          base       result     emerg       diseas   \n",
       "36        diarrhoea         serum         caus  antibodi        immun   \n",
       "37            month         viral    influenza  recombin        model   \n",
       "38             case        effect       associ      farm        sampl   \n",
       "39              pcr        result       clinic    result        sever   \n",
       "40              rsv          bind     pathogen      loss      patient   \n",
       "41              ill            cd  coronavirus     delet       replic   \n",
       "42         pathogen        produc    transmiss    attenu         cell   \n",
       "43  cryptosporidium        diseas         tgev     korea         high   \n",
       "44           neonat         studi        novel    recent      respons   \n",
       "45         identifi           dna        posit     genet        induc   \n",
       "46             test            ha  gastroenter     suckl     recombin   \n",
       "47            dairi        detect        genet     pdcov        emerg   \n",
       "48             bcov         gener         test    mortal         isol   \n",
       "49            cattl           use          fip    diseas        studi   \n",
       "\n",
       "         cluster_5     cluster_6   cluster_7    cluster_8     cluster_9  \n",
       "0              ace           sar         ibv          pcr           mhv  \n",
       "1      angiotensin           cov   bronchiti       detect         hepat  \n",
       "2              ang       protein     infecti        assay          mice  \n",
       "3          convert    coronaviru      strain           rt          mous  \n",
       "4            enzym       syndrom       avian       sensit          viru  \n",
       "5              sar      antibodi        viru       method           jhm  \n",
       "6         receptor          acut     sequenc         real         murin  \n",
       "7             ncov         sever        gene  respiratori        strain  \n",
       "8            renin   respiratori      vaccin    influenza          cell  \n",
       "9               ra       patient        isol        sampl        infect  \n",
       "10             cov        vaccin    recombin       amplif       protein  \n",
       "11             axi         human       genom         test        resist  \n",
       "12              ma         spike     chicken         viru      demyelin  \n",
       "13  cardiovascular        infect     genotyp        rapid          balb  \n",
       "14        function       neutral     protein        virus     macrophag  \n",
       "15           regul        epitop          qx    multiplex      antibodi  \n",
       "16            role       respons     serotyp       specif        mutant  \n",
       "17            cell         immun       china     reaction         liver  \n",
       "18           activ        detect     poultri       revers  glycoprotein  \n",
       "19       hypertens          cell  coronaviru          rna      recombin  \n",
       "20            lung        specif          ck     specimen          gene  \n",
       "21      coronaviru        associ        type       clinic    coronaviru  \n",
       "22          kidney       develop     analysi      develop          type  \n",
       "23         protein         assay        like     diagnosi           rna  \n",
       "24          diseas          viru       spike     isotherm      receptor  \n",
       "25            acut           rbd       flock        viral       persist  \n",
       "26          injuri      recombin    pathogen     diagnost        cultur  \n",
       "27           human  nucleocapsid      differ   transcript       antigen  \n",
       "28            bind          bind      region     pathogen         viral  \n",
       "29           sever         covid          ib       primer           sjl  \n",
       "30          action      receptor         rna        posit        replic  \n",
       "31           heart          gene     variant    polymeras         spike  \n",
       "32         syndrom           ace          ch      patient         induc  \n",
       "33     respiratori   coronavirus        acid       infect         virus  \n",
       "34          compon         studi      attenu         base        specif  \n",
       "35       physiolog           igg        bird         loop        inocul  \n",
       "36          diabet         viral      infect         copi         brain  \n",
       "37          infect          mice       studi      nucleic   coronavirus  \n",
       "38              nl       antigen        cell          dna           rat  \n",
       "39          effect       express       virus       result       protect  \n",
       "40          peptid        peptid       genet      perform         amino  \n",
       "41         express       sequenc      result        evalu      monoclon  \n",
       "42           renal          test   nucleotid          use     neurotrop  \n",
       "43           entri         sampl       emerg        probe        differ  \n",
       "44           brain         induc     complet        chain          isol  \n",
       "45         pressur        result      detect       target    neurovirul  \n",
       "46             rbd          anim     broiler        human      determin  \n",
       "47          recent          sera     protect       compar         delet  \n",
       "48           level         emerg  phylogenet      quantit       neutral  \n",
       "49             new        target       field       mediat         genet  "
      ]
     },
     "execution_count": 26,
     "metadata": {},
     "output_type": "execute_result"
    }
   ],
   "source": [
    "np.random.seed(0)\n",
    "\n",
    "#remove empty text\n",
    "vaccinLdaDf = vaccinLdaDf.loc[vaccinLdaDf['norm_text']!=np.nan]\n",
    "                \n",
    "#re-create Tf-Idf vector for sklearn library                    \n",
    "vectorizer = TfidfVectorizer(stop_words='english')\n",
    "X = vectorizer.fit_transform(vaccinLdaDf['norm_text'].str.join(' '))\n",
    "\n",
    "#true_k -> number of clusters\n",
    "true_k = 10\n",
    "kmodel = KMeans(n_clusters=true_k, init='k-means++', max_iter=500, n_init=5)\n",
    "kmodel.fit(X)\n",
    "       \n",
    "print(\"Top terms per cluster:\")\n",
    "order_centroids = kmodel.cluster_centers_.argsort()[:, ::-1]\n",
    "terms = vectorizer.get_feature_names()\n",
    "\n",
    "kMeansDict = {}\n",
    "for i in range(true_k):\n",
    "    kMeansDict[i] = []\n",
    "    for ind in order_centroids[i, :50]:\n",
    "        kMeansDict[i].append(terms[ind])\n",
    "        \n",
    "kClustersDf =pd.DataFrame.from_records(kMeansDict).add_prefix('cluster_')\n",
    "kClustersDf"
   ]
  },
  {
   "cell_type": "markdown",
   "metadata": {
    "_cell_guid": "6ddb5f7b-1644-4fea-bfff-7747512dc011",
    "_uuid": "f37fa45b-67fa-43f5-8171-81a8da9804b2"
   },
   "source": [
    "The PCA algorithm below shows 2D representation of the keywords"
   ]
  },
  {
   "cell_type": "code",
   "execution_count": 27,
   "metadata": {
    "_cell_guid": "4accac92-85c6-4c39-9751-cf1e563f6c01",
    "_uuid": "d6cf46fe-cc13-4103-8685-06d73373ca6d"
   },
   "outputs": [
    {
     "name": "stderr",
     "output_type": "stream",
     "text": [
      "/home/niharika/.local/lib/python3.6/site-packages/ipykernel_launcher.py:4: DeprecationWarning: Call to deprecated `__getitem__` (Method will be removed in 4.0.0, use self.wv.__getitem__() instead).\n",
      "  after removing the cwd from sys.path.\n"
     ]
    },
    {
     "data": {
      "image/png": "[encoded data removed]",
      "text/plain": [
       "<Figure size 720x576 with 1 Axes>"
      ]
     },
     "metadata": {
      "needs_background": "light"
     },
     "output_type": "display_data"
    }
   ],
   "source": [
    "# train model\n",
    "pcamodel = Word2Vec(kMeansDict.values(), min_count=1)\n",
    "# fit a 2d PCA model to the vectors\n",
    "Xvec = pcamodel[pcamodel.wv.vocab]\n",
    "pca = PCA(n_components=2)\n",
    "result = pca.fit_transform(Xvec)\n",
    "# create a scatter plot of the projection\n",
    "fig = pyplot.figure(figsize=(10,8))\n",
    "pyplot.scatter(result[:, 0], result[:, 1])\n",
    "words = list(pcamodel.wv.vocab)\n",
    "for i, word in enumerate(words):\n",
    "    pyplot.annotate(word, xy=(result[i, 0], result[i, 1]))\n",
    "pyplot.show()"
   ]
  },
  {
   "cell_type": "markdown",
   "metadata": {
    "_cell_guid": "884ed58a-2da8-44c7-822e-9a0ac5afc3e6",
    "_uuid": "dbbdd170-503b-4f50-a62a-d68a1cf2162e"
   },
   "source": [
    "identify the clusters related to vaccine and antibodies"
   ]
  },
  {
   "cell_type": "code",
   "execution_count": 28,
   "metadata": {
    "_cell_guid": "3433cf5e-b6e7-4021-a4b8-c54eeaa99603",
    "_uuid": "d8c9a239-cb92-48c7-9d7e-3b1af0f72956"
   },
   "outputs": [
    {
     "name": "stdout",
     "output_type": "stream",
     "text": [
      "we should keep cluster [1] as it relates to vaccin\n"
     ]
    }
   ],
   "source": [
    "cluster = []\n",
    "for i in range(len(kClustersDf.columns)):\n",
    "    if kClustersDf.iloc[0,i] in ['vaccin', 'antibodi']:\n",
    "        cluster.append(i)\n",
    "print(\"we should keep cluster {} as it relates to vaccin\".format(cluster))"
   ]
  },
  {
   "cell_type": "markdown",
   "metadata": {
    "_cell_guid": "ec436b75-a8d4-453f-a3a5-778926a1b9e5",
    "_uuid": "d78457c6-c6b8-4497-9a01-ad1d00a2a4a0"
   },
   "source": [
    "filter documents related to vaccine and antibodies"
   ]
  },
  {
   "cell_type": "code",
   "execution_count": 29,
   "metadata": {
    "_cell_guid": "cf2c8214-4f76-4cf4-9798-3fdc572334d1",
    "_uuid": "e161eacf-1686-4640-b00a-a7c675e74b49"
   },
   "outputs": [],
   "source": [
    "vaccinLdaDf['cluster'] = kmodel.predict(X)\n",
    "vaccinLdaKnnDf = vaccinLdaDf[vaccinLdaDf['cluster'].isin(cluster)]"
   ]
  },
  {
   "cell_type": "markdown",
   "metadata": {
    "_cell_guid": "6d0bd036-11c7-4ab7-a055-cac7ac7886e2",
    "_uuid": "0936ab18-d84c-4469-800f-f1840cdcbf8d"
   },
   "source": [
    "we reduced the number of articles from 22000 to :"
   ]
  },
  {
   "cell_type": "code",
   "execution_count": 38,
   "metadata": {},
   "outputs": [
    {
     "name": "stdout",
     "output_type": "stream",
     "text": [
      "number of articles after lda and knn filtering: 1015\n"
     ]
    }
   ],
   "source": [
    "print('number of articles after lda and knn filtering: {}'.format(len(vaccinLdaKnnDf)))"
   ]
  },
  {
   "cell_type": "code",
   "execution_count": null,
   "metadata": {},
   "outputs": [],
   "source": []
  }
 ],
 "metadata": {
  "kernelspec": {
   "display_name": "Python 3",
   "language": "python",
   "name": "python3"
  },
  "language_info": {
   "codemirror_mode": {
    "name": "ipython",
    "version": 3
   },
   "file_extension": ".py",
   "mimetype": "text/x-python",
   "name": "python",
   "nbconvert_exporter": "python",
   "pygments_lexer": "ipython3",
   "version": "3.6.9"
  }
 },
 "nbformat": 4,
 "nbformat_minor": 4
}
